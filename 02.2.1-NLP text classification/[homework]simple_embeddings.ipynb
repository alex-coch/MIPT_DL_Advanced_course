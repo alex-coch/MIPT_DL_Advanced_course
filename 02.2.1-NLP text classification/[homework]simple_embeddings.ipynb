{
  "cells": [
    {
      "cell_type": "markdown",
      "metadata": {
        "id": "Ot3c4fjZwC4T"
      },
      "source": [
        "<img src=\"https://s8.hostingkartinok.com/uploads/images/2018/08/308b49fcfbc619d629fe4604bceb67ac.jpg\" width=500, height=450>\n",
        "<h3 style=\"text-align: center;\"><b>Физтех-Школа Прикладной математики и информатики (ФПМИ) МФТИ</b></h3>"
      ]
    },
    {
      "cell_type": "markdown",
      "metadata": {
        "id": "P2JdzEXmwRU5"
      },
      "source": [
        "---"
      ]
    },
    {
      "cell_type": "markdown",
      "metadata": {
        "id": "Fc8iHXIVwDwj"
      },
      "source": [
        "***Some parts of the notebook are almost the copy of [ mmta-team course](https://github.com/mmta-team/mmta_fall_2020). Special thanks to mmta-team for making them publicly available. [Original notebook](https://github.com/mmta-team/mmta_fall_2020/blob/master/tasks/01_word_embeddings/task_word_embeddings.ipynb).***"
      ]
    },
    {
      "cell_type": "markdown",
      "metadata": {
        "id": "7D0wm5jt6j0U"
      },
      "source": [
        "<b> Прочитайте семинар, пожалуйста, для успешного выполнения домашнего задания. В конце ноутка напишите свой вывод. Работа без вывода оценивается ниже."
      ]
    },
    {
      "cell_type": "markdown",
      "metadata": {
        "id": "BIWqBuEa6j0b"
      },
      "source": [
        "## Задача поиска схожих по смыслу предложений"
      ]
    },
    {
      "cell_type": "markdown",
      "metadata": {
        "id": "NUkwMPLA6j0g"
      },
      "source": [
        "Мы будем ранжировать вопросы [StackOverflow](https://stackoverflow.com) на основе семантического векторного представления "
      ]
    },
    {
      "cell_type": "markdown",
      "metadata": {
        "id": "dNRXIEfu5a3Q"
      },
      "source": [
        "До этого в курсе не было речи про задачу ранжировния, поэтому введем математическую формулировку"
      ]
    },
    {
      "cell_type": "markdown",
      "metadata": {
        "id": "uS9FwWNd5a3S"
      },
      "source": [
        "## Задача ранжирования(Learning to Rank)"
      ]
    },
    {
      "cell_type": "markdown",
      "metadata": {
        "id": "wdwY9-f75a3T"
      },
      "source": [
        "* $X$ - множество объектов\n",
        "* $X^l = \\{x_1, x_2, ..., x_l\\}$ - обучающая выборка\n",
        "<br>На обучающей выборке задан порядок между некоторыми элементами, то есть нам известно, что некий объект выборки более релевантный для нас, чем другой:\n",
        "* $i \\prec j$ - порядок пары индексов объектов на выборке $X^l$ c индексами $i$ и $j$\n",
        "### Задача:\n",
        "построить ранжирующую функцию $a$ : $X \\rightarrow R$ такую, что\n",
        "$$i \\prec j \\Rightarrow a(x_i) < a(x_j)$$"
      ]
    },
    {
      "cell_type": "markdown",
      "metadata": {
        "id": "WG2IGBsh5a3U"
      },
      "source": [
        "<img src=\"https://d25skit2l41vkl.cloudfront.net/wp-content/uploads/2016/12/Featured-Image.jpg\" width=500, height=450>"
      ]
    },
    {
      "cell_type": "markdown",
      "metadata": {
        "id": "MQk_rolFwT_h"
      },
      "source": [
        "### Embeddings"
      ]
    },
    {
      "cell_type": "markdown",
      "metadata": {
        "id": "xUe1PGXn6j0l"
      },
      "source": [
        "Будем использовать предобученные векторные представления слов на постах Stack Overflow.<br>\n",
        "[A word2vec model trained on Stack Overflow posts](https://github.com/vefstathiou/SO_word2vec)"
      ]
    },
    {
      "cell_type": "code",
      "execution_count": null,
      "metadata": {
        "colab": {
          "base_uri": "https://localhost:8080/"
        },
        "id": "mYkI54Y-rk7a",
        "outputId": "04e267f0-4a81-4d3f-d602-40e78a8fc273"
      },
      "outputs": [
        {
          "output_type": "stream",
          "name": "stdout",
          "text": [
            "--2023-03-13 03:09:48--  https://zenodo.org/record/1199620/files/SO_vectors_200.bin?download=1\n",
            "Resolving zenodo.org (zenodo.org)... 188.185.124.72\n",
            "Connecting to zenodo.org (zenodo.org)|188.185.124.72|:443... connected.\n",
            "HTTP request sent, awaiting response... 200 OK\n",
            "Length: 1453905423 (1.4G) [application/octet-stream]\n",
            "Saving to: ‘SO_vectors_200.bin?download=1’\n",
            "\n",
            "SO_vectors_200.bin? 100%[===================>]   1.35G  9.07MB/s    in 2m 58s  \n",
            "\n",
            "2023-03-13 03:12:48 (7.80 MB/s) - ‘SO_vectors_200.bin?download=1’ saved [1453905423/1453905423]\n",
            "\n"
          ]
        }
      ],
      "source": [
        "!wget https://zenodo.org/record/1199620/files/SO_vectors_200.bin?download=1"
      ]
    },
    {
      "cell_type": "code",
      "execution_count": null,
      "metadata": {
        "id": "O8YJTOYv6j0s"
      },
      "outputs": [],
      "source": [
        "from gensim.models.keyedvectors import KeyedVectors\n",
        "wv_embeddings = KeyedVectors.load_word2vec_format(\"SO_vectors_200.bin?download=1\", binary=True)"
      ]
    },
    {
      "cell_type": "markdown",
      "metadata": {
        "id": "aIcT_g-C6j1E"
      },
      "source": [
        "#### Как пользоваться этими векторами?"
      ]
    },
    {
      "cell_type": "markdown",
      "metadata": {
        "id": "DWO5SPDY6j1G"
      },
      "source": [
        "Посмотрим на примере одного слова, что из себя представляет embedding"
      ]
    },
    {
      "cell_type": "code",
      "execution_count": null,
      "metadata": {
        "colab": {
          "base_uri": "https://localhost:8080/"
        },
        "id": "KeSBlQfk6j1J",
        "outputId": "b059ec26-922c-4079-baa9-21a407290d76",
        "scrolled": true
      },
      "outputs": [
        {
          "output_type": "stream",
          "name": "stdout",
          "text": [
            "float32 (200,)\n"
          ]
        }
      ],
      "source": [
        "word = 'dog'\n",
        "if word in wv_embeddings:\n",
        "    print(wv_embeddings[word].dtype, wv_embeddings[word].shape)"
      ]
    },
    {
      "cell_type": "code",
      "execution_count": null,
      "metadata": {
        "colab": {
          "base_uri": "https://localhost:8080/"
        },
        "id": "T4Eq-D1qxpMJ",
        "outputId": "d0a10fcb-64ac-474b-f85f-444af8588571"
      },
      "outputs": [
        {
          "output_type": "stream",
          "name": "stdout",
          "text": [
            "Num of words: 1787145\n"
          ]
        }
      ],
      "source": [
        "print(f\"Num of words: {len(wv_embeddings.index2word)}\")"
      ]
    },
    {
      "cell_type": "markdown",
      "metadata": {
        "id": "ZT6NTCys6j1Q"
      },
      "source": [
        "Найдем наиболее близкие слова к слову `dog`:"
      ]
    },
    {
      "cell_type": "markdown",
      "metadata": {
        "id": "n08z2PjMwC5o"
      },
      "source": [
        "#### Вопрос 1:\n",
        "* Входит ли слов `cat` топ-5 близких слов к слову `dog`? Какое место? "
      ]
    },
    {
      "cell_type": "code",
      "execution_count": null,
      "metadata": {
        "colab": {
          "base_uri": "https://localhost:8080/"
        },
        "id": "nYwVz0xG6j1U",
        "outputId": "384ec1b9-397a-471f-d137-3c9303213385",
        "scrolled": true
      },
      "outputs": [
        {
          "output_type": "stream",
          "name": "stdout",
          "text": [
            "[('feline', 0.7719643115997314), ('cats', 0.7606382369995117), ('animal', 0.7583404779434204), ('meow', 0.7338752746582031), ('dogs', 0.7305051684379578)]\n"
          ]
        }
      ],
      "source": [
        "# method most_simmilar\n",
        "'''your code'''\n",
        "print(wv_embeddings.most_similar(positive=[word, 'cat'])[:5])"
      ]
    },
    {
      "cell_type": "markdown",
      "metadata": {
        "id": "ai48-5vv6j1d"
      },
      "source": [
        "### Векторные представления текста\n",
        "\n",
        "Перейдем от векторных представлений отдельных слов к векторным представлениям вопросов, как к **среднему** векторов всех слов в вопросе. Если для какого-то слова нет предобученного вектора, то его нужно пропустить. Если вопрос не содержит ни одного известного слова, то нужно вернуть нулевой вектор."
      ]
    },
    {
      "cell_type": "code",
      "execution_count": null,
      "metadata": {
        "id": "EhNuxBJd6j1f"
      },
      "outputs": [],
      "source": [
        "import numpy as np\n",
        "import re\n",
        "# you can use your tokenizer\n",
        "# for example, from nltk.tokenize import WordPunctTokenizer\n",
        "class MyTokenizer:\n",
        "    def __init__(self):\n",
        "        pass\n",
        "    def tokenize(self, text):\n",
        "        return re.findall('\\w+', text)\n",
        "tokenizer = MyTokenizer()"
      ]
    },
    {
      "cell_type": "code",
      "execution_count": null,
      "metadata": {
        "id": "YHcvu6186j1m"
      },
      "outputs": [],
      "source": [
        "def question_to_vec(question, embeddings, tokenizer, dim=200):\n",
        "    \"\"\"\n",
        "        question: строка\n",
        "        embeddings: наше векторное представление\n",
        "        dim: размер любого вектора в нашем представлении\n",
        "        \n",
        "        return: векторное представление для вопроса\n",
        "    \"\"\"\n",
        "    \n",
        "    '''your code'''\n",
        "    ret = np.zeros((200,), dtype=float)\n",
        "    count = 0\n",
        "    for item in tokenizer.tokenize(question):\n",
        "      # if embeddings.get(item).shape[0] > 0:\n",
        "      try:\n",
        "        # print(embeddings[item].shape)\n",
        "        ret += embeddings[item]\n",
        "        count += 1\n",
        "      except:\n",
        "        ...\n",
        "    if count != 0:\n",
        "      ret /= count\n",
        "    return ret \n",
        "# question_to_vec('dog barks cat you', wv_embeddings, tokenizer)"
      ]
    },
    {
      "cell_type": "code",
      "execution_count": null,
      "metadata": {
        "id": "KwM40EMlGU9n"
      },
      "outputs": [],
      "source": [
        "# wv_embeddings[word]"
      ]
    },
    {
      "cell_type": "markdown",
      "metadata": {
        "id": "u5Q_4j7r6j1u"
      },
      "source": [
        "Теперь у нас есть метод для создания векторного представления любого предложения."
      ]
    },
    {
      "cell_type": "markdown",
      "metadata": {
        "id": "EsJSNkhm6j1y"
      },
      "source": [
        "#### Вопрос 2:\n",
        "* Какая третья(с индексом 2) компонента вектора предложения `I love neural networks` (округлите до 2 знаков после запятой)?"
      ]
    },
    {
      "cell_type": "code",
      "execution_count": null,
      "metadata": {
        "colab": {
          "base_uri": "https://localhost:8080/"
        },
        "id": "a62r11cT6j10",
        "outputId": "554904b7-71ae-42c3-dbcd-0a1e19083db7",
        "scrolled": true
      },
      "outputs": [
        {
          "output_type": "execute_result",
          "data": {
            "text/plain": [
              "-1.29"
            ]
          },
          "metadata": {},
          "execution_count": 9
        }
      ],
      "source": [
        "'''your code'''\n",
        "round(question_to_vec('I love neural networks', wv_embeddings, tokenizer)[2], 2)"
      ]
    },
    {
      "cell_type": "markdown",
      "metadata": {
        "id": "Y60z4t6W6j16"
      },
      "source": [
        "### Оценка близости текстов\n",
        "\n",
        "Представим, что мы используем идеальные векторные представления слов. Тогда косинусное расстояние между дублирующими предложениями должно быть меньше, чем между случайно взятыми предложениями. \n",
        "\n",
        "Сгенерируем для каждого из $N$ вопросов $R$ случайных отрицательных примеров и примешаем к ним также настоящие дубликаты. Для каждого вопроса будем ранжировать с помощью нашей модели $R + 1$ примеров и смотреть на позицию дубликата. Мы хотим, чтобы дубликат был первым в ранжированном списке.\n",
        "\n",
        "#### Hits@K\n",
        "Первой простой метрикой будет количество корректных попаданий для какого-то $K$:\n",
        "$$ \\text{Hits@K} = \\frac{1}{N}\\sum_{i=1}^N \\, [rank\\_q_i^{'} \\le K],$$\n",
        "* $\\begin{equation*}\n",
        "[x < 0 ] \\equiv \n",
        " \\begin{cases}\n",
        "   1, &x < 0\\\\\n",
        "   0, &x \\geq 0\n",
        " \\end{cases}\n",
        "\\end{equation*}$ - индикаторная функция\n",
        "* $q_i$ - $i$-ый вопрос\n",
        "* $q_i^{'}$ - его дубликат\n",
        "* $rank\\_q_i^{'}$ - позиция дубликата в ранжированном списке ближайших предложений для вопроса $q_i$.\n",
        "\n",
        "#### DCG@K\n",
        "Второй метрикой будет упрощенная DCG метрика, учитывающая порядок элементов в списке путем домножения релевантности элемента на вес равный обратному логарифму номера позиции::\n",
        "$$ \\text{DCG@K} = \\frac{1}{N} \\sum_{i=1}^N\\frac{1}{\\log_2(1+rank\\_q_i^{'})}\\cdot[rank\\_q_i^{'} \\le K],$$\n",
        "С такой метрикой модель штрафуется за большой ранк корректного ответа"
      ]
    },
    {
      "cell_type": "markdown",
      "metadata": {
        "id": "eHCnH-jw6j18"
      },
      "source": [
        "#### Вопрос 3:\n",
        "* Максимум `Hits@47 - DCG@1`?"
      ]
    },
    {
      "cell_type": "markdown",
      "metadata": {
        "id": "_tFemBkP6j1-"
      },
      "source": [
        "<img src='https://hsto.org/files/1c5/edf/dee/1c5edfdeebce4b71a86bdf986d9f88f2.jpg' width=400, height=200>"
      ]
    },
    {
      "cell_type": "markdown",
      "metadata": {
        "id": "0sUSxk866j1_"
      },
      "source": [
        "#### Пример оценок\n",
        "\n",
        "Вычислим описанные выше метрики для игрушечного примера. \n",
        "Пусть\n",
        "* $N = 1$, $R = 3$\n",
        "* <font color='green'>\"Что такое python?\"</font> - вопрос $q_1$\n",
        "* <font color='red'>\"Что такое язык python?\"</font> - его дубликат $q_i^{'}$\n",
        "\n",
        "Пусть модель выдала следующий ранжированный список кандидатов:\n",
        "\n",
        "1. \"Как изучить с++?\"\n",
        "2. <font color='red'>\"Что такое язык python?\"</font>\n",
        "3. \"Хочу учить Java\"\n",
        "4. \"Не понимаю Tensorflow\"\n",
        "\n",
        "$\\Rightarrow rank\\_q_i^{'} = 2$\n",
        "\n",
        "Вычислим метрику *Hits@K* для *K = 1, 4*:\n",
        "\n",
        "- [K = 1] $\\text{Hits@1} =  [rank\\_q_i^{'} \\le 1)] = 0$\n",
        "- [K = 4] $\\text{Hits@4} =  [rank\\_q_i^{'} \\le 4] = 1$\n",
        "\n",
        "Вычислим метрику *DCG@K* для *K = 1, 4*:\n",
        "- [K = 1] $\\text{DCG@1} = \\frac{1}{\\log_2(1+2)}\\cdot[2 \\le 1] = 0$\n",
        "- [K = 4] $\\text{DCG@4} = \\frac{1}{\\log_2(1+2)}\\cdot[2 \\le 4] = \\frac{1}{\\log_2{3}}$"
      ]
    },
    {
      "cell_type": "markdown",
      "metadata": {
        "id": "B4L6HJJC6j2B"
      },
      "source": [
        "#### Вопрос 4:\n",
        "* Вычислите `DCG@10`, если $rank\\_q_i^{'} = 9$(округлите до одного знака после запятой)"
      ]
    },
    {
      "cell_type": "markdown",
      "metadata": {
        "id": "J5xWOORI6j2F"
      },
      "source": [
        "### HITS\\_COUNT и DCG\\_SCORE"
      ]
    },
    {
      "cell_type": "markdown",
      "metadata": {
        "id": "I1q9WQOx6j2H"
      },
      "source": [
        "Каждая функция имеет два аргумента: $dup\\_ranks$ и $k$. $dup\\_ranks$ является списком, который содержит рейтинги дубликатов(их позиции в ранжированном списке). Например, $dup\\_ranks = [2]$ для примера, описанного выше."
      ]
    },
    {
      "cell_type": "code",
      "execution_count": null,
      "metadata": {
        "id": "F5VwySUB6j2J"
      },
      "outputs": [],
      "source": [
        "def hits_count(dup_ranks, k):\n",
        "    \"\"\"\n",
        "        dup_ranks: list индексов дубликатов\n",
        "        result: вернуть  Hits@k\n",
        "    \"\"\"\n",
        "    '''your code'''\n",
        "    hits_value = sum(np.array(dup_ranks) <= k)\n",
        "    return hits_value    "
      ]
    },
    {
      "cell_type": "code",
      "execution_count": null,
      "metadata": {
        "id": "82hQaxCH6j2R"
      },
      "outputs": [],
      "source": [
        "def dcg_score(dup_ranks, k):\n",
        "    \"\"\"\n",
        "        dup_ranks: list индексов дубликатов\n",
        "        result: вернуть DCG@k\n",
        "    \"\"\"\n",
        "    '''your code'''\n",
        "    import math\n",
        "    dcg_value = sum(list(map(lambda rating: (rating <= k) / math.log2(1+rating), dup_ranks)))\n",
        "    return dcg_value"
      ]
    },
    {
      "cell_type": "markdown",
      "metadata": {
        "id": "PcwHeXN26j2Y"
      },
      "source": [
        "Протестируем функции. Пусть $N = 1$, то есть один эксперимент. Будем искать копию вопроса и оценивать метрики."
      ]
    },
    {
      "cell_type": "code",
      "execution_count": null,
      "metadata": {
        "id": "fjISmOEW6j2h"
      },
      "outputs": [],
      "source": [
        "import pandas as pd"
      ]
    },
    {
      "cell_type": "code",
      "execution_count": null,
      "metadata": {
        "id": "-ZxjJ1qIQR6E"
      },
      "outputs": [],
      "source": [
        "# candidates_ranking[0]"
      ]
    },
    {
      "cell_type": "code",
      "execution_count": null,
      "metadata": {
        "colab": {
          "base_uri": "https://localhost:8080/"
        },
        "id": "gLa_Wqfh6j2m",
        "outputId": "865258c7-8841-402f-b897-eb7966737872"
      },
      "outputs": [
        {
          "output_type": "stream",
          "name": "stdout",
          "text": [
            "Ваш ответ HIT: [0, 1, 1, 1]\n",
            "Ваш ответ DCG: [0.0, 0.63093, 0.63093, 0.63093]\n"
          ]
        }
      ],
      "source": [
        "copy_answers = [\"How does the catch keyword determine the type of exception that was thrown\",]\n",
        "\n",
        "# наги кандидаты\n",
        "candidates_ranking = [[\"How Can I Make These Links Rotate in PHP\",\n",
        "                       \"How does the catch keyword determine the type of exception that was thrown\",\n",
        "                       \"NSLog array description not memory address\",\n",
        "                       \"PECL_HTTP not recognised php ubuntu\"],]\n",
        "# dup_ranks — позиции наших копий, так как эксперимент один, то этот массив длины 1\n",
        "from sklearn.metrics.pairwise import cosine_similarity\n",
        "vec1 = question_to_vec(copy_answers[0], wv_embeddings, tokenizer)\n",
        "for count, item in enumerate(candidates_ranking[0]):\n",
        "  vec2 = question_to_vec(item, wv_embeddings, tokenizer)\n",
        "  # print(vec1.shape, vec2.shape)\n",
        "  if abs(abs(cosine_similarity([vec1], [vec2])) - 1) < 1e-6:\n",
        "    dup_ranks = [count+1]\n",
        "    # print(count)\n",
        "    break\n",
        "\n",
        "# вычисляем метрику для разных k\n",
        "print('Ваш ответ HIT:', [hits_count(dup_ranks, k) for k in range(1, 5)])\n",
        "print('Ваш ответ DCG:', [round(dcg_score(dup_ranks, k), 5) for k in range(1, 5)])"
      ]
    },
    {
      "cell_type": "markdown",
      "metadata": {
        "id": "MoHC3YoQ6j2t"
      },
      "source": [
        "У вас должно получиться"
      ]
    },
    {
      "cell_type": "code",
      "execution_count": null,
      "metadata": {
        "colab": {
          "base_uri": "https://localhost:8080/",
          "height": 112
        },
        "id": "B0NFWq4f6j2u",
        "outputId": "ef9ddedd-da4b-43a5-a3ec-3f078b43e240",
        "scrolled": true
      },
      "outputs": [
        {
          "output_type": "execute_result",
          "data": {
            "text/plain": [
              "      1        2        3        4\n",
              "HITS  0  1.00000  1.00000  1.00000\n",
              "DCG   0  0.63093  0.63093  0.63093"
            ],
            "text/html": [
              "\n",
              "  <div id=\"df-7e023638-fed7-4f3d-b54e-61b5a22c253e\">\n",
              "    <div class=\"colab-df-container\">\n",
              "      <div>\n",
              "<style scoped>\n",
              "    .dataframe tbody tr th:only-of-type {\n",
              "        vertical-align: middle;\n",
              "    }\n",
              "\n",
              "    .dataframe tbody tr th {\n",
              "        vertical-align: top;\n",
              "    }\n",
              "\n",
              "    .dataframe thead th {\n",
              "        text-align: right;\n",
              "    }\n",
              "</style>\n",
              "<table border=\"1\" class=\"dataframe\">\n",
              "  <thead>\n",
              "    <tr style=\"text-align: right;\">\n",
              "      <th></th>\n",
              "      <th>1</th>\n",
              "      <th>2</th>\n",
              "      <th>3</th>\n",
              "      <th>4</th>\n",
              "    </tr>\n",
              "  </thead>\n",
              "  <tbody>\n",
              "    <tr>\n",
              "      <th>HITS</th>\n",
              "      <td>0</td>\n",
              "      <td>1.00000</td>\n",
              "      <td>1.00000</td>\n",
              "      <td>1.00000</td>\n",
              "    </tr>\n",
              "    <tr>\n",
              "      <th>DCG</th>\n",
              "      <td>0</td>\n",
              "      <td>0.63093</td>\n",
              "      <td>0.63093</td>\n",
              "      <td>0.63093</td>\n",
              "    </tr>\n",
              "  </tbody>\n",
              "</table>\n",
              "</div>\n",
              "      <button class=\"colab-df-convert\" onclick=\"convertToInteractive('df-7e023638-fed7-4f3d-b54e-61b5a22c253e')\"\n",
              "              title=\"Convert this dataframe to an interactive table.\"\n",
              "              style=\"display:none;\">\n",
              "        \n",
              "  <svg xmlns=\"http://www.w3.org/2000/svg\" height=\"24px\"viewBox=\"0 0 24 24\"\n",
              "       width=\"24px\">\n",
              "    <path d=\"M0 0h24v24H0V0z\" fill=\"none\"/>\n",
              "    <path d=\"M18.56 5.44l.94 2.06.94-2.06 2.06-.94-2.06-.94-.94-2.06-.94 2.06-2.06.94zm-11 1L8.5 8.5l.94-2.06 2.06-.94-2.06-.94L8.5 2.5l-.94 2.06-2.06.94zm10 10l.94 2.06.94-2.06 2.06-.94-2.06-.94-.94-2.06-.94 2.06-2.06.94z\"/><path d=\"M17.41 7.96l-1.37-1.37c-.4-.4-.92-.59-1.43-.59-.52 0-1.04.2-1.43.59L10.3 9.45l-7.72 7.72c-.78.78-.78 2.05 0 2.83L4 21.41c.39.39.9.59 1.41.59.51 0 1.02-.2 1.41-.59l7.78-7.78 2.81-2.81c.8-.78.8-2.07 0-2.86zM5.41 20L4 18.59l7.72-7.72 1.47 1.35L5.41 20z\"/>\n",
              "  </svg>\n",
              "      </button>\n",
              "      \n",
              "  <style>\n",
              "    .colab-df-container {\n",
              "      display:flex;\n",
              "      flex-wrap:wrap;\n",
              "      gap: 12px;\n",
              "    }\n",
              "\n",
              "    .colab-df-convert {\n",
              "      background-color: #E8F0FE;\n",
              "      border: none;\n",
              "      border-radius: 50%;\n",
              "      cursor: pointer;\n",
              "      display: none;\n",
              "      fill: #1967D2;\n",
              "      height: 32px;\n",
              "      padding: 0 0 0 0;\n",
              "      width: 32px;\n",
              "    }\n",
              "\n",
              "    .colab-df-convert:hover {\n",
              "      background-color: #E2EBFA;\n",
              "      box-shadow: 0px 1px 2px rgba(60, 64, 67, 0.3), 0px 1px 3px 1px rgba(60, 64, 67, 0.15);\n",
              "      fill: #174EA6;\n",
              "    }\n",
              "\n",
              "    [theme=dark] .colab-df-convert {\n",
              "      background-color: #3B4455;\n",
              "      fill: #D2E3FC;\n",
              "    }\n",
              "\n",
              "    [theme=dark] .colab-df-convert:hover {\n",
              "      background-color: #434B5C;\n",
              "      box-shadow: 0px 1px 3px 1px rgba(0, 0, 0, 0.15);\n",
              "      filter: drop-shadow(0px 1px 2px rgba(0, 0, 0, 0.3));\n",
              "      fill: #FFFFFF;\n",
              "    }\n",
              "  </style>\n",
              "\n",
              "      <script>\n",
              "        const buttonEl =\n",
              "          document.querySelector('#df-7e023638-fed7-4f3d-b54e-61b5a22c253e button.colab-df-convert');\n",
              "        buttonEl.style.display =\n",
              "          google.colab.kernel.accessAllowed ? 'block' : 'none';\n",
              "\n",
              "        async function convertToInteractive(key) {\n",
              "          const element = document.querySelector('#df-7e023638-fed7-4f3d-b54e-61b5a22c253e');\n",
              "          const dataTable =\n",
              "            await google.colab.kernel.invokeFunction('convertToInteractive',\n",
              "                                                     [key], {});\n",
              "          if (!dataTable) return;\n",
              "\n",
              "          const docLinkHtml = 'Like what you see? Visit the ' +\n",
              "            '<a target=\"_blank\" href=https://colab.research.google.com/notebooks/data_table.ipynb>data table notebook</a>'\n",
              "            + ' to learn more about interactive tables.';\n",
              "          element.innerHTML = '';\n",
              "          dataTable['output_type'] = 'display_data';\n",
              "          await google.colab.output.renderOutput(dataTable, element);\n",
              "          const docLink = document.createElement('div');\n",
              "          docLink.innerHTML = docLinkHtml;\n",
              "          element.appendChild(docLink);\n",
              "        }\n",
              "      </script>\n",
              "    </div>\n",
              "  </div>\n",
              "  "
            ]
          },
          "metadata": {},
          "execution_count": 15
        }
      ],
      "source": [
        "# correct_answers - метрика для разных k\n",
        "correct_answers = pd.DataFrame([[0, 1, 1, 1], [0, 1 / (np.log2(3)), 1 / (np.log2(3)), 1 / (np.log2(3))]],\n",
        "                               index=['HITS', 'DCG'], columns=range(1,5))\n",
        "correct_answers"
      ]
    },
    {
      "cell_type": "markdown",
      "metadata": {
        "id": "tHZqgDTo6j0i"
      },
      "source": [
        "### Данные\n",
        "[arxiv link](https://drive.google.com/file/d/1QqT4D0EoqJTy7v9VrNCYD-m964XZFR7_/edit)\n",
        "\n",
        "`train.tsv` - выборка для обучения.<br> В каждой строке через табуляцию записаны: **<вопрос>, <похожий вопрос>**\n",
        "\n",
        "`validation.tsv` - тестовая выборка.<br> В каждой строке через табуляцию записаны: **<вопрос>, <похожий вопрос>, <отрицательный пример 1>, <отрицательный пример 2>, ...**"
      ]
    },
    {
      "cell_type": "code",
      "execution_count": null,
      "metadata": {
        "colab": {
          "base_uri": "https://localhost:8080/"
        },
        "id": "60r8oyssXLEh",
        "outputId": "faa54357-8194-4368-e4b7-961c7c5a828d"
      },
      "outputs": [
        {
          "output_type": "stream",
          "name": "stdout",
          "text": [
            "Downloading...\n",
            "From: https://drive.google.com/uc?id=1QqT4D0EoqJTy7v9VrNCYD-m964XZFR7_&confirm=t\n",
            "To: /content/stackoverflow_similar_questions.zip\n",
            "100% 131M/131M [00:01<00:00, 108MB/s]\n"
          ]
        }
      ],
      "source": [
        "!gdown \"1QqT4D0EoqJTy7v9VrNCYD-m964XZFR7_&confirm=t\""
      ]
    },
    {
      "cell_type": "code",
      "execution_count": null,
      "metadata": {
        "colab": {
          "base_uri": "https://localhost:8080/"
        },
        "id": "jKVK2lDGvrIe",
        "outputId": "3765a3f3-f266-4c8d-f62f-f4ade00254fa"
      },
      "outputs": [
        {
          "output_type": "stream",
          "name": "stdout",
          "text": [
            "Archive:  stackoverflow_similar_questions.zip\n",
            "   creating: data/\n",
            "  inflating: data/.DS_Store          \n",
            "   creating: __MACOSX/\n",
            "   creating: __MACOSX/data/\n",
            "  inflating: __MACOSX/data/._.DS_Store  \n",
            "  inflating: data/train.tsv          \n",
            "  inflating: data/validation.tsv     \n"
          ]
        }
      ],
      "source": [
        "!unzip stackoverflow_similar_questions.zip"
      ]
    },
    {
      "cell_type": "markdown",
      "metadata": {
        "id": "hil2UsUG6j22"
      },
      "source": [
        "Считайте данные."
      ]
    },
    {
      "cell_type": "code",
      "execution_count": null,
      "metadata": {
        "id": "B4EBho8s6j26"
      },
      "outputs": [],
      "source": [
        "def read_corpus(filename):\n",
        "    data = []\n",
        "    for line in open(filename, encoding='utf-8'):\n",
        "        '''your code'''\n",
        "        data.append(line)\n",
        "    return data"
      ]
    },
    {
      "cell_type": "markdown",
      "metadata": {
        "id": "kkTxY3Mk9_nG"
      },
      "source": [
        "Нам понадобиться только файл validation."
      ]
    },
    {
      "cell_type": "code",
      "execution_count": null,
      "metadata": {
        "id": "PTVB9Tnp6j29"
      },
      "outputs": [],
      "source": [
        "validation_data = read_corpus('/content/data/validation.tsv')"
      ]
    },
    {
      "cell_type": "markdown",
      "metadata": {
        "id": "bTHfL-9y6j3F"
      },
      "source": [
        "Кол-во строк"
      ]
    },
    {
      "cell_type": "code",
      "execution_count": null,
      "metadata": {
        "colab": {
          "base_uri": "https://localhost:8080/"
        },
        "id": "z6ubXhIe6j3H",
        "outputId": "c8372de5-40b3-4e1a-b865-f778577287b3",
        "scrolled": false
      },
      "outputs": [
        {
          "output_type": "execute_result",
          "data": {
            "text/plain": [
              "3760"
            ]
          },
          "metadata": {},
          "execution_count": 20
        }
      ],
      "source": [
        "len(validation_data)"
      ]
    },
    {
      "cell_type": "markdown",
      "metadata": {
        "id": "kaOQblBy6j3M"
      },
      "source": [
        "Размер нескольких первых строк"
      ]
    },
    {
      "cell_type": "code",
      "execution_count": null,
      "metadata": {
        "colab": {
          "base_uri": "https://localhost:8080/"
        },
        "id": "yRx6e-Pe6j3M",
        "outputId": "8ec94c58-5749-4690-f824-53ebac77b75c"
      },
      "outputs": [
        {
          "output_type": "stream",
          "name": "stdout",
          "text": [
            "1 54517\n",
            "2 52818\n",
            "3 54464\n",
            "4 53724\n",
            "5 52297\n"
          ]
        }
      ],
      "source": [
        "for i in range(5):\n",
        "    print(i + 1, len(validation_data[i]))"
      ]
    },
    {
      "cell_type": "code",
      "execution_count": null,
      "metadata": {
        "colab": {
          "base_uri": "https://localhost:8080/",
          "height": 105
        },
        "id": "iEGpHV6GaiXe",
        "outputId": "45d79391-922a-4a9d-9f9d-5d1c620efc7b"
      },
      "outputs": [
        {
          "output_type": "execute_result",
          "data": {
            "text/plain": [
              "'How to print a binary heap tree without recursion?\\tHow do you best convert a recursive function to an iterative one?\\tHow can i use ng-model with directive in angular js\\tflash: drawing and erasing\\ttoggle react component using hide show classname\\tUse a usercontrol from another project to current webpage\\t~ Paths resolved differently after upgrading to ASP.NET 4\\tMaterialize datepicker - Rendering when an icon is clicked\\tCreating PyPi package - Could not find a version that satisfies the requirement iso8601\\tHow can I analyze a confusion matrix?\\tHow do I declare a C array in Swift?\\tUsing rand() when flipping a coin and rolling a die\\tHandling a JSON field with a special character in its name in Java\\tReact Native select row on ListView when push it\\tGet \\'creation_time\\' of video using ffmpeg and regex\\tDoes row exist and multiple where\\tHow to specify a classifier in a gradle dependency\\'s dependency?\\tUsing $unwind on multiple documents\\tVisual Studio Code: Missing X509Certificate2UI\\tDeveloping Cordova plugins for Firefox OS\\tUpdate multiple rows for 2 columns in MySQL\\tAnalyse format of alpha-numeric string\\tDealing with large TIFF images C++/Magick/libtiff\\tWhat does Error: [$injector:unpr] Unknown provider: tProvider <- t <- myActiveLinkDirective mean?\\tAngularJS - Apply directive instantly, formating currency\\tCan I change the font color on a portion of a string?\\tSpring AOP does not intercept methods within Spring\\'s container\\tHow to retrieve json in original nested form in apache solr?\\tSpatial autocorrelation using Moran\\'s I or other spatial overlap index\\thow to stop my php page from continuing when field is empty\\tSelecting all CheckBoxes in ListBox not displayed properly\\tPHP warning: Illegal string offset \\'field\\'\\tWebBrowser control crashes on Windows 10\\tError while opening a modal in angular\\tPort 25 works when exe run manually but blocked when run as service\\tWhy does 6.00 + (plus) 5.00 = \"5.006.00\"?\\tCount number of processes created using fork in a for loop\\tWhen should I use UIImagePickerControllerSourceTypePhotoLibrary instead of UIImagePickerControllerSourceTypeSavedPhotosAlbum?\\tRead File in Java, output the first comma delimited String\\tSimple recursive method\\tEnsure SQLite table only has one row\\tWhy is there a method iterator() on java.util.Collection\\tDevelopment for Cloudant using local CouchDB\\tRegex to find method calls\\tASP.NET Menu rendering different from vs2008 to vs2010\\tMaven - Change jUnit Version in Quickstart Archetype\\tWriting sublists in a list of lists to separate text files\\tiPad: problems with table rows in popovercontrol\\tRetrieve multiple results set\\tpagination is not working in codeigniter :(\\tAngular NVD3 Change Colors In Legends Also\\tnode.js server not responding while large file upload with express and busboy\\tSend request & Get Response in Windows Phone 8.1 WinRT\\twant to delete only empty folders from directory before last 30 days using batch\\tCreating X amount of threads that execute a task at the same time\\tAndroid Studio 2.2 update: aligned APK (zipAlign) not generated using the new Gradle Plugin 2.2.0\\tEntity Framework - adding the same entity twice in many-to-many relationships\\tJoin two tables, only display unique values and maxium date\\tHow to use absolute position relative to parent element\\tSearch refinement for WebMatrix site\\tMaven project version as expression, not constant\\tCan I prevent App.g.i.cs to be generated?\\tTroubles converting XSD to Java using JAXB\\tCannot run a jax rs web service with tomcat\\tmake a password protected bash script resist/refuse \"bash -x\" when the password is given\\tDoes youtube api play function trigger a view count?\\tWhy is this Perl loop over strings then characters so slow?\\tHow can I change the size of rgl plots in Shiny RMarkdown?\\tHow do I programmatically disconnect clients which are connected to Solace appliance?\\tRails before_filter (Correct_user OR Admin)\\tHow to gitignore everything except hidden subdir?\\tShould I use weakSelf in nested blocks?\\tCSS background color not behaving as expected\\tAndroid app Listview cannot be scrolled to bottom to search a specific element using appium in java\\tRails: Why \"has_many ..., :through => ...\" association results in \"NameError: uninitialized constant ...\"\\tHow to send data between fragments when swiping tabs in ViewPager\\tWordpress static pages: how to embed content into templates?\\tTroubles with importing classes from Angular 2 modules with Typescript 1.7\\ti am not able to get the images read in java for exporting it as JAR\\tHow do I create a resource dll\\terror: linker command failed: ld: duplicate symbol _main\\tsql to find non-printable characters in a string\\ti want to generate payperiod for each month\\tInteractively enter headline under which to place an entry using capture\\tQuerying the DNS service records to find the hostname and TCP/IP\\tCan I use setContentView outside the oncreate method?\\tConsolitate data from multible sheets ,re-arrange the data as per the column name\\tWhy is my \\'transparent\\' overlay view opaque?\\thow can I run play framework with port=9001 under windows cmd not under play console?\\tRails 3 - Ajax POSTS from a link click\\tAdd html content to mysql die error?\\tBest way to run a Plack PSGI Perl application outside of Apache using FastCGI?\\tHow to Call NSUserDefault Value To Another View Controller?\\tDoes Qt have a way to get the font that the particular css resolves to?\\tHow to update Parent component about the data that child component modified(angular 1.5)\\t2d array, pushing to one array shows up in all arrays?\\tGet NSData from assets-library URL\\tHow to specify image size in HTML Doxygen?\\tNSFetchedResultsControllerDelegate in a second view controller (not firing?)\\tDraggable divs getting mixed with another divs\\tcreating MLP in python showing error\\tCreate SharePoint 2010 ribbon button programmatically w/o feature XML\\thow can I use pyglet write a music player can play a music list\\tHow can I efficiently debug loops consisting of a large number of iterations on Eclipse?\\tPassing a model object to a RedirectToAction without polluting the URL?\\tAutomatically receiving mobile phone\\'s SMS to hyperterminal\\tOutput \"System.out.println\" into Emacs Cider\\'s REPL (or other buffer)\\tScoring regression model using PMML with Augustus in Python\\tSafari View Controller - send data back to app\\tSignalling a bash script running in the background in an infinite loop\\tHow do I add in-app purchase to a published app in play store and test it before going into production?\\tFileNotFoundException in Windows 10 Universal App (UAP)\\tHow to map one column with other columns in an avro file?\\tRetrieving all the cell data from a jQuery datatable on post\\tIn Play! Frame work Can I Make classes In models package Singleton?\\tBinding events with Hammer.js and .on()\\tyii making user auto logged in on signup end (auto authentication after signup)\\tUnreal Engine 4: save rendered frame to memory\\tBuilding HelloWorld C++ Program in Linux with ncurses\\tGenerating Checkbox Lists with MVC3 using a complex viewmodel and a cross table with Linq to SQL\\tCordovaWebView: TIMEOUT ERROR\\tWhats wrong in my xsd schema ? It gives type element is not declared on include of another xsd file\\tAngular and papaParse Integration\\tSetup a graylog2 server with elasticsearch in a vagrant machine\\t(Solved-See my comment)How to make a password form on tumblr?\\tJavascript: Call a method inside another method\\taws api gateway client-side ssl certificate verification with nginx\\tKendo UI drop downs posting arrays\\tServiceStack Identity on field other than PK - Insert fails\\tRedirection when rendering controller in twig SYMFONY 302\\tCSS Sprites Bottom repeating\\tHow can I sort a table of Laravel Eloquent objects by a custom attribute?\\tComparing elements in a generic list\\tSet minDate for Bootstrap DateTimePicker from another\\tWhat is the difference between :g and :%s commands in vim\\tJava: creating self extracting jar that can extract parts of itself out of the archive?\\tset html text color and size using javascript\\tQueue using Arrays\\tforeach loop when using Xml.XmlElement in remote scriptblock\\tHow to print list of categories and click on each category one by one in selenium/appium?\\tEvery now and then, ABCpdf runs out of memory\\tIn Spring OAuth2, why is my resource still unprotected even though I have marked it in my resource server?\\thow to restart node application automatically on aws elastic-beanstalk\\tUnresolved external symbol LNK2019\\tCelltemplate in angular-ui-grid is not working properly\\tEscaping backslashes in method call stringByReplacingOccurrencesOfString Does not work in Objective C\\tAPEX Data Loading - Add a column programatically\\tMySQL / MariaDB shuts down after exactly 1 minute 42 seconds\\tMouse movement / mouseover and JavaScript evaluation in watir\\tRemoving backslashes from a string in Python\\tArray manipulation (accessing specific bytes)\\tRails: Does Application.css load all css.scss files?\\tLongListSelector cannot change ItemsSource\\tC# DateTime not recognising timezone change (BST)\\tdeinit in child view controllers\\tHow to send back to custom class which object of that class was clicked\\tdelete from array returning self\\tMS Access Properties\\tUIWebView always add a parameter in url issue\\tcomparing two spanned strings in edittext in android\\tAdd prefix to control id and still have it bind MVC Razor\\tEXC_BAD_ACCESS when setting Integer to anything else than zero\\t:hover CSS is not working?\\tBlowfish last block incomplete in decryption\\tReading uploaded image: undefined method `file\\' for nil:NilClass\\tHow can I run IntelliJ IDEA on a remote desktop\\tHow to get the JSONObject server response in Volley\\tGuide in organizing large Django projects\\thow to populate a dropdownlist based on another dropdownlist selected value in mvc 4?\\tAzure ServiceBus Token Expired\\tiBatis to MyBatis migration efforts?\\tWhere should I look for the document generated using htp package\\tTortoise SVN Error after update: \\'The specified path has an unexpected status\\'\\tExtract html data after logging into website from android app\\tAdd key value to array without triggering an array\\tHow to write this math equation into c++\\tUndefined index php mysql error\\twhen text changed inputbox automatically updates next 6 text boxes\\tUnable to get email of facebook user\\tiphone: Facebook logout feature is not work in my app\\thow to force my app NOT to use the 3g data proxy setting\\tUnit Testing - What do you do when your code is pretty much just a calculation (GetHashCode for example)?\\tStatus of CheckBox can\\'t be detected\\tSort a list with multiple conditions Ruby on Rails\\tHow to sharp the text in css3?\\tHow to change the class of an object dynamically in C#?\\tCreating an Array with a Default Value,But the default value is changed\\tHow to call a delegate\\'s function without getting the \"instance method not found\" warning in ios?\\tAndroid, background drawable appear black in genymotion but looks fine in intellij\\tTable has no columns using google charts\\tDropdown list where options populate a second list js/php?\\tdifference between <% and <%= ruby\\tHow to remove the functionality of changelist filter appearing in django admin?\\thow to unpack stxetx data in python\\tAnsible: playbook calling Role in a directory that is in the roles directory\\tSetting up HTTPS redirects on Heroku Laravel Instance\\tInput helper valueBinding is deprecated - what\\'s the alternative?\\tUsing MySQL.connector with Twisted Python to execute multiple queries\\tMySQL - 1 large table with 100 columns OR split into 5 tables and JOIN\\tneo4j load csv when field name has a \\'.\\' in it\\tMocha + React: navigator is not defined\\tsemantic ui grid - display full width of column, after \"computer only\" columns is hidden\\tpopulating select menu options using javascript\\tSerializing MongoDB find() return into non-anonymous JSON array, using PyMongo\\tGeom tile white space issue when the x variable is spread unevenly accross facet grids\\tMoving files depending on the profile in a WAR\\tCheck if it\\'s the last record in sqldatareader\\tAssigning to columns in NumPy?\\tAndroid Facebook ApiException: Invalid Application\\tDjango: customizing the message after a successful form save\\tCustom TextBox with built-in Validator: server side validation not firing\\tHow to embed mjpeg file on a webpage\\tphp delete on jQuery doesnt work\\tAWK doesn\\'t work in Bash Script\\tLaunch specific app when external accessory attached\\tThree Inputs in a Row - Bootstrap 3\\tHow compiler like GCC implement acquire/release semantics for std::mutex\\tFramework search for upcoming project\\tImplementing a Web Service Server in Windows CE 2013\\tWhy do I keep getting \"The digital signature of the object did not verify\" for Windows JavaEE installer\\thide paging numbers in gridview?\\tHow to remove sublayers from a view afer a touch\\tCUDA: Can i find out if i have global memory coalescence?\\tHow to read a google chrome crash dump with windbg\\tjQuery targeting nested list\\tpass the column value when checkbox is clicked in wijmogrid column\\tHow to normalize your database in hibernate? (Repeating values don\\'t get saved again and again)\\thow to stop validation on a particular textbox after hiding this textbox using angularjs\\topencv imshow with waitKey too slow on Mac OS X 10.10.2 (using c++)\\tSetting an Input Box Background\\tIntelliJ IDEA: \"Element ignore is not allowed here\"\\tSlider does not work in the jQuery Tabs\\tCarrierwave getting image width and height and storing it in an hstore field\\tOpenProcess() succeeds, but EnumProcessModules() fails\\tDjango + Forms: Dynamic choices for ChoiceField\\tusing Url.Content to display the file content with .net mvc\\tPDO cannot able to fetch image from database\\terror in adding overlay in current location\\tInternal section link fails in beamer output of pandoc markdown\\tAdding ROW_NUMBER() to query loses DISTINCT, defeats the purpose of paged results attempt\\tandroid studio 135.1339820 launches wrong java version on openSuse 12.3\\tMy Facebook object is empty\\tJava code reads UTF-8 text incorrectly\\tPHP session.cookie_secure does not actually set the cookie to secure\\tUsing webapp2, how can I get the value of a form\\'s \"name\" attribute during a POST request?\\tFinding Uppercase Character then Adding Space\\tTable data pass into stored procedure as param and insert into another table in mysql\\tInject entry point class in GWT with GIN\\tHow to group by week of the year dates or day dates that start on Sundays in oracle 10?\\tWhat are the options Some and None SML?\\tReversing a .mp3 programmatically\\tConvert Associative Array in PHP and insert it to database\\tWhy is the \"map\" version of ThreeSum so slow?\\tant keeps recompiling\\tHttpContext.Current.User.Identity.Name returns blank\\tUIWebView Javascript Window to Window Communication\\tFluent NHibernate Exception: An association from the table X refers to an unmapped class: System.String\\tAre .NET memcache libraries production ready?\\tDB2 Can\\'t connect to db with new user\\tDjango flatpages backup?\\tTrouble with Creating One-Time Calendar Event from Google Sheet row\\tThe colored image turned to have no color and just a grey vector in drawable?\\thow to show pattern in asp-Repeater item template?\\tFastest scripting language for Java?\\tTried to reverse engineer my app, but got some weird-looking file tree\\tStartup for bundles placed in the deploy folder of Karaf\\td3js force layout with hide/unhide on node click misplaces nodes after expanding\\tUnique column definition in SQL\\tHash of a cell text in Google Spreadsheet\\tHow to pin/unpin Microsoft Edge developer tools in Windows 10\\tWhich editor can align tables in reStructuredText for Sphinx?\\tHow to walk through a directory in c and print all files name and permissions\\tiOS KVC DRY mutation\\tIBM MobileFirst Platform iFix doesn\\'t update the version displayed in Operations Console\\trelative layout aligning images about right bottom corner\\tHow to retrieve a PDF(document) from the Tridion File System and create a multimedia component out of it\\tHTML sends x y POST data with no inputs - how is this possible?\\tHow can I view Azure logfiles when running locally?\\tis there a web service client code generator on iOS?\\tGet smallest type to include data range\\tGet dates as check if it is ending\\tCordova brightness still returns -1\\tHow to detect 3 keyboard buttons in Swing?\\tPython calculations in two groups\\tcreate array from mysql query php\\tTDD vs Defensive Programming\\tDisplay logo or image in the Ribbon using VSTO\\tHow can I get a meaning of a jsp variable in java code on the same page?\\tConversion of cloud data into 2d image using OpenCV\\t[python-suds]Bug? One additional element is created when using Factory\\tUsing clang to analyze C++ code\\tLogin with email and password control not working\\tansible: use different logging level for terminal and log file\\tDraggable window with pyqt4\\tdynamically adding edittext depending on the elements of json array\\tHow to convert ftp.getModificationTime(file) to readable format\\tPHP Login Form using DashDB\\tBuilding a properties file to the top level of a WAR file, Spring-MVC/Maven\\tEnabling breakpoints in goclipse\\terror while including external JARs in ant script\\tComparison of web widgets in flash and javascript\\tWhy must I free this data? Am I the owner?\\tOptimizing a very huge mysql table (query or mysql)\\ttlbexp.exe outputs different tlb information on 2012 versus 2010\\tHow to create a Facebook Like with a post/comment box\\tCodeigniter PDO integration\\tpass string array as parameter to asp.net mvc webapi method\\tRemoving space in dataframe python\\tHow to set application identity of an application pool using web administration module in powershell?\\thow to handle play database connection exceptions\\tquerydsl 3.3.0 - using collection.any() with elementcollections in a query with N boolean arguments generates N \"exists\" sub-queries\\tGson: Change the way Map-Keys are being serialized\\tImproving gnuplot 3d plots from data files with pm3d\\tDivide problem\\tYii2: Using Kartik Depdrop Widget?\\tCan anyone post an example of how to enable SSL in Tsung?\\tMPI_Isend and MPI_Irecv seem to be causing a deadlock\\tVirtual Box port forwarding misery with Ruby Sinatra:4567 / Shotgun:9292\\tEnhancing regex to match more URLs\\tJavaScript classlist selector error\\tMy IntelliJ IDEA 11.1.5 lost the ability to debug node.js applications after upgrading to windows 8.1\\tScientific notation android java\\tHow to make a JSON array case insensitive for Twitter Typeahead?\\tMembase can someone explain the idea behind their technology\\tStruts 2 + Dojo + Datetimepicker\\tCannot retrieve data from find query\\tHow long are resources used (file descriptor and memory) for Java temporary files (jar_cache####.tmp)?\\thow to pass a variable in WHERE IN clause of oracle sql?\\tHow can I transform the coordinates of a Shapefile?\\tMapping result of aggregate query to hibernate object\\tDrawing Application how to save drawing in android phone memory\\tError while using npm install -g generator-jhipster\\tGet abs path from the currently edited file in Eclipse\\tPost form data to foreign aspx form\\tLogging in Azure web jobs\\tMTM with (automated) CodedUITest test-cases developed in VS2013 issues\\tHow to print contents of an HTML element in MacGap?\\tASP.NET Control not available in CodeBehind\\tHow can I disable the IIViewDeck functionality momentarily?\\tWhy would I create a struct with only a `PhantomData<()>` member?\\tAccessing masterpage properties from child pages in ASP.net VB\\tBash read inside a loop reading a file\\tRandom number between 1 and 20 excluding numbers already picked\\tWordpress Navigation Label in Browser tab\\tTaking control of the soundCard with JAVA\\tSTL containers and large amounts of data\\tColour in Backorder Products dropdown based on stock in WooCommerce\\tRichfaces - <rich:autocomplete> not showing suggestions\\tHow to select and enlarge a Masterpane in Zedgraph\\treact-native android publishing keystore\\tWhat is a good way to find a specific value in an XML document using C#?\\tCan i make my own Singleton Stateless Bean with EJB 3.0?\\tHow does Google App Engine precompile Java?\\tUsing dispose() method instead of close() method to a form\\tSpring Oauth2 \"Full authentication is required to access this resource\" with valid access token\\tWhy is my code only displaying incorrect even if I have the right answer?\\tForcing function in ODE\\tGet sum of column on last row, good practice?\\tSimple Karma + Typescript configuration - Reference Error: x is not defined\\tError building Player because scripts have compile errors in the editor\\tProperty Testers do not load despite forcePluginActivation. For popup menu enablement\\tJavascript regex to match last word regardless of specials characters\\tDevelop multilangual system\\tangular-mock testing in Karma+Mocha can\\'t find module\\tHow to append an element inside object using a common way\\tGenerate random \"dark\" colours only in Java\\tAccess element in list using indexes stored in another list\\tHow to correctly use setq in elisp?\\tiOS - Today Extension \\'show more\\' & \\'show less\\' state incorrect. Collapsed says \\'show less\\' - requiring multipule presses to fix\\thow to get the position of the cursor in an editable div\\tflickering of image in SWT\\tCompletely random identifier of a given length\\tAngular 2 Render Flat List from Hierarchal Data\\tJava RMI threads on client-side are executing sequentially or concurrently when calling the same remote object?\\tVariable-size buffer for receiving UDP packets\\tCreateSqlQuery on entity with formula property\\tDatepicker TIMESTAMP divide by 100\\thow to print out the whole table using anonymous block in pl sql?\\tIn Sentora i will need to integrate a clamav Module\\thow do i set a value of a multiple <select> tag from the database\\tshow decimal value in C#\\tJavascript: how to affect other element when hovering?\\tCreating new popup window when click button\\tHow to Depict Either/Or Inheritance in a UML diagram?\\tAjax post success data: Can you separate results?\\tDocument.getElementById() not available for ChromiumWebBrowser in visual studio\\ttarget of assignment expands to non-language object\\tHow do I configure distributed transactions for NServiceBus\\tHow to combine an array of png images like layers using C#?\\tyii2 gii CRUD Generator error - Class \\'Message\\' does not exist or has syntax error\\tGet values of checkbox to other page\\tSession on subdomains still not working\\tHow can I turn off host name resolutios?\\tsyntax error, unexpected end-of-input\\tErlang: \"extending\" an existing module with new functions\\ttcl string replacement\\thow to access directory in plesk (control panel )\\tMinimizing the sum of a special function over a list\\tVB.Net & Access - Set two foreign keys, that refer to the same table/field\\tMemory Monitoring Tool for Erlang Threads\\tDisable Spring Boot Security @Secured at runtime\\tJoin two tables on the same date or closest date (before or after)\\tPower Point viewer asp.net mvc\\tSwift: Get an element from a tuple\\timages rotation to the right\\tCan I access the visual voicemail files on the iphone thru the SDK?\\tProximity alert for locations saved at server\\tTableviewcell button\\tAngularjs select does not mark matching model as selected\\tHow can i use id to do action on an object of an android using Robotium tool?\\tHow can i pass a value to constructors of collection of instances at runtime with simple injector?\\tLarge binary shifts in 8086 assembly?\\tDirectshow, format type change filter\\tHow to open model window on option selection?\\tUpdate value in sqlite iphone sdk\\tInstalling ADT plugin in Eclipse for Android development\\tAutomating a ContextMenu with Watin\\thow to evaluate the performance of any cryptographic algorithm (say elliptic curve)?\\tNth-child Selector with Prototype\\tDifference in performance of compiled accelerate code ran from ghci and shell\\tDatabase design for email messaging system\\tJava SE Development Kit 8u20 Install Options\\tReading a file in chunks\\tTwitter style Web Application based on LAMP, Symfony2, Backbone : possible?\\tRegexp for C preprocessor command\\tCmposition, I dont quite get this?\\tCakePHP form submits the \"array\"\\tStore feed forward network in mongodb\\tbash read strings and output as one key and multiple values\\thttp client in python fails to recive\\tDynamic languages - which one should I choose?\\tHow to start an IntentService from a WakefulBroadcastReceiver\\tC++: Converting wstring to unsigned char\\tHow to make echo interpret backslash escapes and not print a trailing newline?\\tAngularJS.. http.get working, when splitting into its own service module its no longer working\\tHow do I determine the number of elements in an array reference?\\t\"TypeError: \\'NoneType\\' object is not iterable\" on what should be a list\\tReplace random image on website\\tRotation matrix between two camera system\\tAnimated border which wraps around\\tcron job not picking up oracle query result\\tFormview and MS-Ajax UpdatePanel\\tHow to update data with TreeStore or TreeEditor component?\\tGet kwargs passed to url_for in Flask view\\thow to reload the template when working with enlive without restar\\tThread-safe get (accessor method)\\tHow can I tell if \"inline\" worked?\\tcalling some logic before user is logged out using spring security?\\tJava pattern to find two groups of two letters in `ABC`\\tMYSQL distincs entry of two columns even when switched\\tHow Antlr creates tokens\\tPlay Framework 2.4 - Java - Http header and cached response\\tList of Strings in a Grails domain class\\tInsert into MongoDB via Node.js\\tHow to stop or pause Pandora and Spotify\\tOracle Function: Replicate wm_concat\\tReturn user to previous page after login (Rails)\\tCustom Layout Manager using predefined and developer-defined child view(s)\\tIn Ruby, how do I specify a file in another directory as an input?\\tUnable to read View Bag value from controller to view\\tParameters on time stamps in oracle sql developer\\tmeasuring the time to load a page - Python\\tSet height of child to height of parent\\tHow can I find the element that caused another element to fire the focusout event?\\tHow to get the latest created table in MySQL?\\tBetter way to reference $scope in AngularJS\\tSharing data between Elastic Beanstalk web and worker tiers\\tiOS certificate pinning with Swift and NSURLSession\\tSharing UDP Data across apps (background/foreground or Split screen multitasking) in iOS\\tiPhone: Facebook logout feature does not working\\tAutoHotKey. Hotstrings and Auto-replace not working in Visual Studio 2008\\tIssue setting up Android SDK - Failed to Start Emulator\\tWhy is the dismissable alert not being dismissed?\\tError while executing change data capture sql query\\tmultiple queries - Route.get() requires callback functions but got a [object Undefined]\\tHow to attach custom element to shadow DOM in html web components in a secure way?\\tflash javascript don\\'t work (Second try)\\tHow do EGit versions map to Git versions\\tHow the ftp uploads works in PHP?\\tSql XML to Delphi\\tLookup table with the query with arbitrary length without using a for loop in R\\tC# XML deserialization XmlAttribute\\tCSS, JQuery: Animated transform from 3 lines menu to cross\\tCan m2e install an external jar file? Or do I need to install the maven command line tool?\\tDoes gSOAP RESTful implementation require the definition of a WSDL\\tAutomatically create an appointment in Outlook using message content\\tJSoup error: java.lang.IllegalArgumentException\\tAdd Button to CMS_Page_Edit via Observer\\tHow to do an XOR of the binary forms of all integer items in a list\\tHow to add regularization in Scipy Linear Programming (Non-negative Least-Squares)\\tHighlight backgroung colors of some words in HTML Document in java\\tIs there a way to retrieve process stats using Perl or Python?\\tExcel NamedRange.Find Method with Regex pattern match in C#\\tcmake error when configuring\\tHow to set first column to a constant value of an empty np.zeros numPy matrix?\\tEclipse Plugin - get Launch Configurations Tree List in a Dialog.\\tWhat are the RESTful best practices on defining a query parameter with an or condition?\\tExtracting text from the input field - using Webdriver\\tOne <hr> tag is working but not the other in Firefox. Why is that?\\tajax request xml from php\\tEmbedded Java server using Grizzly: How do you enable http2\\tFinding Minimum Completion Time of Scheduled Tasks with Topological Sort\\tHow to set jQuery draggable min/max-left and min/max-right\\tsemantic-ui modal size keeps extending to the height of a page\\tIs there any direct git command to push changes to another branch\\tHow and is it worth to integrate Java Webapp + drools + Guvnor?\\tHow to debug Error Messsage in Odoo\\tcalculate differences between two numbers\\tData constructor in template haskell\\tTying composer.json to a specific Laravel 5 SHA\\tDjango 1.7.1 requires a Default value for field - but no entry is in database. Why?\\taddEntriesFromDictionary: a true copy method?\\tSpring Boot OAuth2 with encrypted JWT access token\\tWrap text if it is longer than max_characters\\tiptables: Duplicating/Forwarding ports\\tMultiple custom fields stored as meta_keys, how to connect with the post?\\tAndroid GridView crashes or is very slow on some devices (Samsung Galaxy S4, S3)\\tHTML/CSS: Input element weird indent ie7\\tWhat exactly does Double mean in java?\\tMost effective ways to extract Android Cursor (sqlite) into an array to be used in AlertDialog.Builder?\\tjenkins can not find android SDK\\tCan I open a new window and change the DOM of the calling window in JavaScript?\\tdynamically Change Itemized overlay draw circle using seek bar progress\\tHow do I fix django.db.utils.IntegrityError: duplicate key value violates unique constraint?\\tInno Setup not creating registry entry in Software/Microsoft/Windows/CurrentVersion/Uninstall\\tbuild from hadoop source code in centos\\tC# LinqToSql SubmitChanges() does not update, even though PK is set\\tHow to read utf16 text file to string in golang?\\tObjective C ePub framework\\tReducer output to different files based on keys\\tIs it possible for a Chrome Extension to get a user\\'s full browsing history?\\tVariable Number of Nested For Loops\\tOrdered http request parameters\\tTesting the Oracle to_date function\\tGetting the error of POST method from another PHP file\\tMultiple selection of worksheets into one workbook copy paste of content into one main sheet\\tWhy do I keep getting \"developer inactive\" errors when calling the Beats Music API?\\tMy select command doesn\\'t work\\tnode js read files line by line\\tPHPStorm/Webstorm increase memory to more than 512MB\\tWant to open google.com at specific location and make it specific window size\\tDatabase not updating new row\\tSpring suite tools start error - spring boot\\tSlider in codenameone\\tIssue with $(this) and toggle() multiple classes\\tHow to load file from dir using Racket?\\tRemoving quotation mark using javascript does not remove single quotation marks\\tFirebase Android ChildEventListener Triggered onChildRemoved() before onChildAdded() When new data added\\tPython. Error using animation.FuncAnimation\\tHow to make inline comments in Org-mode?\\tFind years with distinct digits - CCC 2013\\tIdentify customer visits occurring after a given time period in mysql\\tFinding the distinct count from a cassandra column using Tableau\\tPrism : Change the active view\\tGet Color from int\\tDynamic subversion repos via subdomains (in Apache)\\tHow to multithread my for loop in Python\\tHow to get recycler view list item count using Espresso\\tHow to PIVOT and calculating column average\\tFastest way to separate the digits of an int into an array in .NET?\\tEscaping special characters in SphinxSE\\tImporting sqlite file into r\\tSort order of related products not working in Magento 1.6\\tDisplay 404 not found template for \\'slugs\\' when publication returns empty cursor - Meteor - iron-router\\tIs there a way to tell if an object has implemented ToString explicitly in c#\\tVFS: file-max limit 1231582 reached\\tPlay 2.2 EssentialAction With Futures\\tAppBarLayout / CollapsingToolbarLayout expands indefinitely\\thow to deselect all Radio Button in Radio ButtonGroup on button click in flash as3?\\tnumpy array creating with a sequence\\tSed: Matching words with any permutation of two characters\\tMake Child element appear outside of parent\\tMobilePin createuserwizard doesn\\'t work?\\tFit Image in canvas using WPF\\tAdding a fontawesome icon with border into form input\\tfinding pixel location of Listview item seems to return wrong value\\tsails 0.9.8 not work, when created controller and lift it\\tLarave File not found at path but it does exist\\tRequiredFieldValidator causes validation on Server even if validator is disabled(CausesValidation=\"false\")\\tRetrieving HTML content from a page requiring authentication using PHP\\tHow to generate linked-axis in matplotlib\\tPrint % sign with string formatting\\tHow to calculate the dimensions of the monitor in PyQt4/Windows/Linux?\\tVBA Outlook 2010 retrieving information from Active Directory\\tModifying bootstrap thumbnails\\tASP.Net: What\\'s keeping old AppDomains alive?\\tA library uses the same package as this project after importing Facebook SDK\\tUnable to run compiled .classes from the command line\\tIs it possible to partially decode and update JSON? (go)\\tHow to use Apache-Commons DBCP with EclipseLink JPA and Tomcat 7.x\\tHow to do batch geocoding using google-maps-services-java\\tInserting an img into a text field (html, css)\\tNoClassDefFoundError during Tomcat graceful shutdown\\tIndesign (IDML file) Automation using HTML5 and Javascript\\tWriting to the ObjectOutputStream and getting rubbish back\\tHow do I stop md-cards from stretching images to full vertical height?\\tSQL, missing end, but why?\\tSED - Search two pattern in a line and insert few word at the end of the line if pattern match is found\\tHow to configure & run multiple websites with respective databases with single Laravel code instance\\tthree.js CanvasRenderer - setting initial color for object together with transparency textures\\tIHTMLDocument2 - click button inside iframe\\tResource 1 works, 2 doesn\\'t\\thow to show an image in an image field by a button click event in c# asp.net\\tHow to use this for killing array of threads?\\tMVC scaffolding does not support Entity Framework 6 or later\\tParse error using Remotipart\\tJAVA JAX-WS Deployment (JAVA Eclipse EE IDE)\\tkaminari and order_by\\tmultisampling and fragment shader\\tC program- change char order in sentence\\tHow to reload an IFrame every x seconds?\\tEF6 table per hierarchy, with unique index on derived property\\tShell Script to add extension on file and directory\\tAbsolute beginners guide to working with audio in C/C++?\\tExtract part of string\\tstopping toast android in other actvity\\tClient-side SSL not working with AWS API Gateway\\tTop Left Menu Bar Is Frozen when Main Window Shows Up\\tCategory Axis Label Alignment for Multi Series bar chart in JAsper\\tInvalid Label - jQuery Ajax/Json request\\tOptimizing Haskell Recursive Lists\\tSymfony3: Service not able to get arguments\\tReverse Geocoding not displaying info window on markers when clicked\\tHow to restrict background click in Ionic confirmation popup\\thow to use CSPARQL-ReadyToGoPack-0.9 in a SBT project\\tHow to sort UTF-8 lines in Vim?\\tHow to handle NotFoundException elegantly in Neo4j 2.0?\\tDownload multiple files simultaneously with PHP - Forking, Sockets\\tSubmit form on one server, process it and then post results to another domain\\tFlyway Mysql multiline comment directive not parsed\\tNon-Blocking File Reads\\tORACLE sql dynamic variables in stored procedure\\tnested ngFor with two data classes in angular2\\tCrossplatform webview in Qt5.6\\tSet the default encoding to UTF-8 for all JSPs without using @page directives\\tXSLT creating a table with varying amount of columns\\thow to send email with powershell\\tAsynchronous method using .Result\\tIs JENKINS Extensible Choice Parameter compatible with linux?\\tStarting Speech Recognition with CreateProcess() in C++\\tHow do I animate adding subviews?\\tHow can I change the default font for a Jekyll website\\tImpossible to compile Fortran code with include statement\\tLazy loading images in Vue/Laravel\\tWeb API read header value in controller constructor\\tAndroid wear WearableListView ImageView selector\\tFunction pack() returns 0\\tIs it possible to have Firebase authentication via Facebook in a Phonegap App?\\tPHP Export MySQL to CSV - Results showing HTML\\tHow to detect language preference in Laravel 5\\tVB WebBrowser click button\\tReports using java collections\\tHow to write all files Contain in the subfolders and in the folders in to a .txt file\\tChecking negative values from Google Forms\\tLibgdx reading json array values\\tCustom Buddypress Notification on Post Save\\tUITableView with UITextField - keep the data even after user scrolls\\tVisual Studio 2015 Update 1 automatically checks in files\\tMobilefirst Failed synchronizing application from the administration service\\tCannot execute for loop in vue.js\\thow to prevent duplicate item\\tJava Apache CLI OptionBuilder not working as Builder pattern\\tWhat\\'s a proper way to turn off genymotion emulator?\\tJade select field populating data\\tWhy is \\' 2\\' > \\'10\\'?\\tMysql dump comments directives and simple comments\\tCropping library not working on Nexus S\\tCreate a segue and attach it between two view controllers through Swift?\\tFunction to search recursively for patterns in vim\\tIntegrating wordpress and laravel user management\\tBehaviour after takePicture() different on different devices/Android versions\\tExporting Plone content: how to get the tarball created by quintagroup.transmogrifier.writer\\tCassandra to Hive using Spark\\tRuby on Rails :before_filter => :only_when_user_is_logged_in\\tHow can I integrate Jacoco reports with SonarQube without using maven?\\tCan I use NSPredicate as key in a NSDictionary\\tProxy Authentication Failed error\\tCould someone explain how to use the UpdateManager in TideSDK 1.3.1 Beta?\\tProperties - how to avoid code repetition\\tPause/resume video recording using AVCaptureMovieFileOutput\\tSwift enum recursive associated value\\tHow to grep particular string occurring multiple times\\tHover map area sprite with jquery\\tSpark `LiveListenerBus` Exception is freaking me out\\thow to use pyplot.arrow or patches.Arrow in matplotlib?\\tApache on Windows and Fiddler\\thow to pass the variable from api gateway to the url of another service running on EC2\\tOpen link when doubleclicking on table row with jQuery\\tWget span host only for images/stylesheets/javascript but not links\\tI am trying to show data using api . but data is not showing in custom listView . list is empty\\tGraphing sbt\\'s incremental compilation logic\\thow to get functionality of Long Press gesture in ios ver below 3.2\\tChange priority headings for a task with the api\\tGet values on a row based on two or more rows in Excel\\tIs using Silverlight a hindrance for Startups?\\tspotify session callback get_audio_buffer_stats\\ttalend - specify jndi as datasource\\tLong data load time in Matlab\\thow can i change column width in base to content with vb.net and bootstrap?\\tAlternative to Microsoft.Practices.EnterpriseLibrary.Data\\tHow to facet.pivot with spring-data-solr\\tCheck empty output from fish function\\tpysolr update document with error\\tHow to retrieve same column twice with different values of other column in same table\\tUpdated: NodeJS - connect-keycloak middleware empty response error\\tAccordion open when page loads\\tActivity doesn\\'t refresh after associated Broadcast Receiver\\'s onReceive gets called.\\tHow do you detect DOCTYPE (Transitional or Strict) server-side in ASP.NET?\\tFirefox 9.0.1 Broke Internal Wiki Layout\\tonchange function in dropDownList yii2\\tplay mp3 without default player\\tConvert SVG Data to SVG File that can be uploaded\\tFolder Picker for MS Word\\tCan\\'t hide or close form after switching to another form\\tHow to ShellCode in linux with x64 processor.\\tHow to set a specific timezone for windows CE By C#\\tVagrant enters aborted state during apt-get update\\tattempting to make enter button \\'clickable\\'\\tImageMagick Convert not generating correct color\\tMybatis select with nested objects\\tMy css height auto doesn\\'t work\\tD3 AngularJs Force Directed Graph\\tI want to add 30 days to mysql date row\\tHow I can use FlexyPool with HikariCPFactory?\\tWix installer: Verify that you have sufficient privileges to start system services\\tr, ts - error in stl, series has less than two periods (erroneous?)\\ttypo3 - Adding content to the footer\\tKnockout re render template with new data model on change event of dropdown menu\\t@ManyToMany relation not save\\tDownsampling of fMRI image with FSL\\tHow to use Android AutoCompleteTextView on Xamarin.Forms\\tWhy fstream::tellg() return value is enlarged by the number of newlines in the input text file, when file is formated for Windows (\\\\r\\\\n)?\\tDetermine If Two Points Are Near\\tclicking logo on home page breaks navigation menu on mobile site\\tUse Iframe to embed csv and allow user to search from it\\tInstall Chrome extension through windows registry\\tDisplay message on success does not work\\tjQuery masked input - format date as m/d/yyyy or m/dd/yyyy or mm/dd/yyyy or mm/d/yyyy\\tHow to change spring session (redis) cookie name?\\tAny tool to suggest unit reference automatically for Delphi 2010?\\tWhy does my method return a null password?\\tSQL Script - manipulate value based on previous non zero value\\trotate image shows \"Out of memory\" exception\\tcount button clicks\\tJoomla Custom Compoment Dev Env : Hot Deployment\\tNexus 5 not showing on connected devices\\tHow work the method TrueForAll? C# LINQ\\tPHP - Simplest Way to Post & Display\\tUpdate Temp Table with Group By\\tHow to use Parse Push with Cordova, Appcelerator, etc\\tAS3 bitmapdata send to server picture is small in upperleft corner\\tHow to set the Z order index for adorner in WPF\\tphp microseconds\\tCreating a global database connection on an mdi form\\tUncaught ReferenceError: React is not defined\\tVBA search column for strings and copy row to new worksheet\\tHow can I record a test using Espresso without doing a clean install?\\tHow can I char array in reverse order?\\tWhat kind of SCTP support is there on various Windows versions?\\tSaving changes to an EC2 instance without having to register an AMI each time?\\tAuto run Jetty on boot\\tHow To Cache jQuery Template In Backbone View via Ajax?\\tDoes this C++ static analysis rule make sense as is?\\tSame Ripple drawable(effect) appearing differently on ListView and RecyclerView\\tR ggplot2 assigning colours to a factor\\tVerifying a method was called without using IoC\\tWhat is \\'seg cs\\' in bootsect.s\\tsetTimeout keeps firing\\tFormatting the way a string is entered into my database\\tCreating Jenkins Job using python API\\tpython create single thread to do one task then quit\\tz order in issue in ConstraintLayout Android\\tCan I derive from a class that can only be created by a \"factory\"?\\tPHP OOP :: passing session key between classes\\tASP.NET MVC 3, SQL Server\\tRecreating or deleting google services json\\tProbe problem when writing a I2C device driver\\tJersey produce duplicate log messages\\tExit / stop Array2D.initBased early\\thow to set array of date to fireDate in local notification at a time\\talternative to async: false ajax\\tOracle: how to get percent of total by a query?\\tHow to match the recursive pattern `a(?R)b` including another string e.g. \"test{aaabbb}\"? (Regex)\\tHow to disable GestureListener?\\tHow to specify Code Style settings in a Qt Creator `.pro.shared` file?\\tcal extension template modification with .tmpl\\tGetting started with Groovy/Grails?\\tOpening a Ruby program\\'s source file in the default editor\\tHow can I pass an array of Guid via Web API?\\tBackbone-Relational find or load?\\twhat\\'s the best way to format an xml string in ruby?\\tPartial classes in Google Closure?\\tAdd a repository in AccountController\\tWikipedia API Autocomplete with Json\\tApache Pig: unable to run my own pig.jar and pig-withouthadoop.jar\\tOptimizing list comprehension to find pairs of co-prime numbers\\tkivy access child id\\tStucture values not staying, values changed to -858993460\\tSet toolbar title\\tHow to add a row to a table using swt\\tjQuery ui selectmenu vertical position offset (relatively to buttons in this line)\\tSSIS : Warning: Failed to decrypt an encrypted XML node\\tgps not getting user location\\tExporting a simple model with texture from Blender to three.js\\tPostman - Required MultipartFile parameter is not present - Spring, Java\\tPrevent akka actor from restarting child actor\\tUITableView not loaded\\tNTFS permission with modify date\\tQTreeView - how to tell if a drag/drop event is a reorder or a move between parents?\\tPrevent XUL notificationBox from closing when button is hit\\tCode not working. Notification that should go off once a day\\tAndroid Action Bar Button does not show up\\t$.widget is not a function\\tjquery hide not taking parameter\\tHow can i use a one form/table for multiple MVC\\'s?\\tMSTest: execution order of tests within the same TestClass\\tHow to call jQuery function in HTML returned by AJAX\\tOAuth2 security considerations for client_id\\tGoogle Compute Instance 100% CPU Utilisation\\tIncompatible block pointer type when returning array?\\tCalling a REST api with an encrypted PEM client certificate\\tSelect all objects in a list\\tDrag and insert div into another div\\tHow to prevent firefox from scrolling to the bottom of the page when a large popup is opened\\tHow to handle ((List<string>)Session.Add(\"\")\\tmysql inserting into 2 tables at once that have primary key and foreign key\\tWhat\\'s the right way to remove multiple items from a QTableWidget?\\tWhen MSTest fails in TestInitialize, why doesn\\'t TestCleanup get executed?\\tPHP CodeIgniter application not opening any page except default controller\\tParsing JSON data without quotes with jQuery\\tRewrite url in .htaccess\\tI/O error(socket error): [Errno 111] Connection refused\\tGit Error; RPC failed; result=22, HTTP code = 401\\tTFS 2010 - Set the State field to a certain value\\tActionScript 3.0 How to create ProgressEvent instances in for loop with multiple files loaded from XML\\thow can i extract my query to find average\\tC# Windows Service - Default Arguments on Install\\tUpload large files with node js\\tChanging table headers in cakephp\\thello world with JMS on Glassfish\\tCountdown timer using DateTime.Parse without defined date\\tImages in the \\'drawable\\' folder are resized automatically?\\tFind files with the same size and dellete all duplicates except the one has the shortest name using shell script\\tWriting Rules both in Firebase and in your Code\\tSearch for words with specific starts and endings\\tInstall Neo4j 3.0+ as a windows service\\tPHP convert 2 digit year to a 4 digit year\\tJSDoc auto-complete documentation in Eclipse is not working for Class.create()\\tSplit a infix String to an array of String in java\\tFolder permissions in Azure web sites\\tOnly have separators between UITableViewCells\\tUncaught Syntax error, unrecognized expression: [object Object]\\tNeed htaccess redirection\\tHow to create this bootstrap carousel of iframes?\\tDoctrine2 - Get entity ID before flush\\tXquery help sorted parent child relationship\\tHow To Load Separate Pages In Android Gridview While Clicking Blocks or Items?\\tkineticjs rect fillText\\tis a query string with a / in it valid?\\tHow to convert the BYTEARRAYS to NSString in objective -c\\twhy is std::chrono::duration based on seconds\\tWCF REST Client Exception\\tUsing UIBinder to create a Widget to go into a Dialog\\tOneDrive for Business :\"invalid_request\",\"error_description\":\"AADSTS90014: The request body must contain the following parameter: \\'grant_type\\tAre the any options for interfacing with the command prompt process from a .NET application other than the standard IO?\\tAdding data in the database using microsoft access and OleDb in C#\\tjQuery Ajax header not being passed\\tAngularJS: Multiple views with routing without losing scope\\tBackboneJS How to merge collections\\tSpecflow :Could not load file or assembly TechTalk.SpecFlow, Version=2.2.0.0\\tMax byte calculated by System.Runtime.InteropServices.Marshal.SizeOf()\\tHow can my application retrieve custom fields from a DocuSign transaction?\\tadd active state to button in a button group\\tHow to define clear range for pixel color\\tRoslyn VisualBasic.ScriptEngine doesnt recognize hostObject written on C#\\tNeither BindingResult nor plain target object for bean name \\'categoryOptions\\' available as request attribute\\tHow to change Wicket behaviour on Page Expired\\tPHPUnit code coverage show 0% coverage\\tHow to prove code correctness lemmas with the \"undefined\" constant\\tVisual Studio has insufficient privileges to debug this process. To debug this process, Visual Studio must be run as an administrator\\tWebApi EntitySetController using composite keys\\tHow do I set up an OpenGL project using XCode 4.2 in C++?\\tInitialize static NSString at class level\\tRich Text Editor inside Flux Form\\tSetting $PATH in xampp osx\\tHow to extract data from html using PHP\\tHow to get Current location using MapModule?\\tExcel VBA Syntax Errors & Compiling Issues\\tHow to read Logback configuration file from path outside the war file?\\tjQuery ajax not getting every div elements\\tTCP Socket on JAVA - Any byte >= 128 is received as 65533\\tSqlBulkCopy keeps on throwing connection forcibly closed exception\\tError sending to the following VALID addresses Jenkins\\tHow to determine if a text has balanced delimiters?\\tHow to flick through a deck of cards?\\tSelecting in SQLite Database Android\\tTSQL merge Incorrect syntax near \\',\\'\\tBuilding Pocketsphinx On Android on Windows\\tAdd background image in a div without empty space between div and footer\\tInclude github project into wordpress plugin\\tdjango multivaluefield & multiwidget - compress and/or decompress not working\\tAndroid : Can i call my onresume() inside onpause().?\\tHow to fit picture to absolute positioning modal window?\\tRedirect URL to PHP only if file does not exist with Nginx\\tLaravel 4 Exception: NotFoundHttpException\\tHow To Start Using Kostache?\\tAssigned access application exits when Ctrl + Alt + Delete is pressed.\\tCircular dependency error when running migrations in Django 1.7c2\\tJavaFX setOnShown fires before window is visible\\tFlash Develop - Publishing\\tI want to use the variable I declared somewhere else but I cannot (simple sql query)\\tbuttons are not displayed\\tPrevent Twitter responsive layout from collapsing when width < 320px\\tShow azure cost analysis data using Azure billing API/SDK\\tfind the field names from a search query\\tOAuth 2.0 OpenID Connect Loopback and Keycloak\\tWindows Phone: How to retrieve the same photo from media library between application instances\\tSymfony2: determine if a controller is called from a development environment or from a production environment\\tWhen UITableView is fully reloaded\\thttp.post(url, postData, options) does not set header\\tJSON stringify outputs empty object for not empty object\\tDisplay.syncExec not working inside Callable\\tXPath to first occurrence of element with text length >= 200 characters\\tUnable to push a docker image to local OpenShift Origin registry\\tSlideDown() using JavaScript not working as intended\\tThreading.Tasks Dispose meaning issue\\tVAL() function in JavaScript\\tUsing php to send form to my email..Having an issue with 405 Not Allowed when form is submitted\\tNetty closeFuture().sync().channel(); blocks rest api\\tHow to check if a specific button exists in Scrapy?\\tRemove logs from ORMLite Android\\tLanguage detection API/Library\\tShould I make 1 form for each upvote button or 1 form for all the buttons?\\tEclipse GAE JDO 3.0\\tdjango-cms editors and HTML data attribute cleaned up\\tXcode build error clang failed\\tsetTimeout from a web worker\\tC# Populating a listview from a List\\tJavascript not working in django inline formset using urlify.js\\tPHP multi cURL performance worse than sequential file_get_contents\\tConverting PHP Contact Form to SMTP\\tHow do I prevent the original method being called when mocking a class with PHPUnit?\\tEnsure footer will stick to bottom of page and flex with content\\tHow to share files from any path using a FileProvider?\\tR: How to build sum of arrays third dimension containing NAs and returning a list?\\tSpeeding up a strangely slow Rcpp function\\tHow to create a service that sends/receives UDP broadcasts on multiple interfaces\\tCan someone tell me how to replace the following javascript code with a loop?\\tUIImageView layer border issue\\tCOM object created by CComObject::CreateInstance not destroyed when pointer goes out of scope\\tRun 2 sql query with 1 query for save query result as .csv format\\tAWS Elastic Beanstalk Vs EC2 Container Service (ECS) - Docker\\tConnect to remote MongoDB instance from ASP.NET\\tCopying files with unicode names\\tASP.NET Web application doesn\\'t unload AppDomains after deploy\\tGetting YouTube livestream URL\\tCan\\'t use ToString() in LINQ to Entities query\\tlist comprehension to create list and for no-data value feed default value\\tJSX element type \\'XXX\\' does not have any construct or call signatures\\tSubroutine unexpectedly ends when a Workbook is closed\\tCreating a result set (using a select statement ) within a loop\\tLaravel 4.2 - Environment detection - homestead.yaml vs. start.php\\tDeploy a shell script with Ruby gem and install in bin directory\\tChange a string into an int\\tHow do I stop a MySQL decimal field from being rounded?\\tRespecting argparse\\'s privacy, vs. usability\\tVery simple Web Service in Python\\tEmoji and UIWebView in iOS 5\\tGetting IOError: [Errno Invalid number of channels] -9998 when using mic with PyAudio on Raspberry Pi\\tMono on Mac OS X - Parallel HTTP Downloads limited to 2\\tDelete files, directories and buckets in amazon s3 java\\tAndroid: Saving form data on a swipe rather than from a button\\tNo description or item name on PayPal Payment Received email\\tCode igniter with data mapper giving in valid json\\tWhere can I find official / canonical documentation for using JavaScript with \"classic\" ASP?\\tBroadcastReceiver isn\\'t working\\tArray compare and count which has similar values and which not\\tHow to cancel \\'viewWillAppear\\' after UIImagePickerController is dismissed\\tIn Scala, is it possible to write a script which refers to another script\\tafter reload page IE is not retaining it\\'s scroll position\\tSpringBoot multiple authentication adapter\\tSMTP Contact Form blank screen on Submit\\tDestroy all sessions but one\\tC# WIndows CE Compact Framework 2.0 Set System Timezone\\tAppropriate representation of a 2D game board in Clojure\\tIonic emulate ios shows black screen\\tHow update APi with AngularJS?\\tJavascript based redirect: will it hurt SEO?\\tWhat is the difference between these two SOAP requests?\\tMicrosoft Access Report - How to cycle through all pages of a report in print view?\\tWhat does Actor[akka:\\\\\\\\play\\\\deadLetters].tell() mean in a New Relic\\'s trace of a Play Framework 2.0 web transaction?\\tJRuby 1.7.0 will not install bundler given plenty of memory\\tsolr multiple tokenizers for query\\tIs it possible to pass an EJS variable to an Angular ng-repeat filter?\\tHow To Read Data using Ip Address\\tSSIS XML Decryption Message\\tDetecting selection change on a UITextView?\\tDifferent CSS background-image depending on month and year\\tWhat\\'s the equivalent averageifs for standard deviation?\\tSegmentation faults using f2py\\tEclipse: Most useful refactorings\\n'"
            ],
            "application/vnd.google.colaboratory.intrinsic+json": {
              "type": "string"
            }
          },
          "metadata": {},
          "execution_count": 22
        }
      ],
      "source": [
        "  validation_data[0]"
      ]
    },
    {
      "cell_type": "markdown",
      "metadata": {
        "id": "ySQQp0oQt1Ep"
      },
      "source": [
        "### Ранжирование без обучения"
      ]
    },
    {
      "cell_type": "markdown",
      "metadata": {
        "id": "iElEDhj-6j3R"
      },
      "source": [
        "Реализуйте функцию ранжирования кандидатов на основе косинусного расстояния. Функция должна по списку кандидатов вернуть отсортированный список пар (позиция в исходном списке кандидатов, кандидат). При этом позиция кандидата в полученном списке является его рейтингом (первый - лучший). Например, если исходный список кандидатов был [a, b, c], и самый похожий на исходный вопрос среди них - c, затем a, и в конце b, то функция должна вернуть список **[(2, c), (0, a), (1, b)]**."
      ]
    },
    {
      "cell_type": "code",
      "execution_count": null,
      "metadata": {
        "id": "K02JARKr6j3T"
      },
      "outputs": [],
      "source": [
        "from sklearn.metrics.pairwise import cosine_similarity\n",
        "from copy import deepcopy"
      ]
    },
    {
      "cell_type": "code",
      "execution_count": null,
      "metadata": {
        "id": "1yP8wJWj6j3X"
      },
      "outputs": [],
      "source": [
        "def rank_candidates(question, candidates, embeddings, tokenizer, dim=200):\n",
        "    \"\"\"\n",
        "        question: строка\n",
        "        candidates: массив строк(кандидатов) [a, b, c]\n",
        "        result: пары (начальная позиция, кандидат) [(2, c), (0, a), (1, b)]\n",
        "    \"\"\"\n",
        "    '''your code'''\n",
        "    ret = []\n",
        "    vec1 = question_to_vec(question, embeddings, tokenizer)\n",
        "    for count, item in enumerate(candidates):\n",
        "      vec2 = question_to_vec(item, embeddings, tokenizer)\n",
        "      ret.append((count, cosine_similarity([vec1], [vec2])[0][0], item))\n",
        "    ret.sort(key=lambda x: x[1], reverse=True)\n",
        "    return [(x[0], x[2]) for x in ret]"
      ]
    },
    {
      "cell_type": "markdown",
      "metadata": {
        "id": "TnBszTb76j3c"
      },
      "source": [
        "Протестируйте работу функции на примерах ниже. Пусть $N=2$, то есть два эксперимента"
      ]
    },
    {
      "cell_type": "code",
      "execution_count": null,
      "metadata": {
        "id": "er3yTvJUb_79"
      },
      "outputs": [],
      "source": [
        "# r = rank_candidates(questions[0], candidates[0], wv_embeddings, tokenizer)\n",
        "# r.sort(key=lambda x: x[1], reverse=True)\n",
        "# [(x[0], x[2]) for x in r]"
      ]
    },
    {
      "cell_type": "code",
      "execution_count": null,
      "metadata": {
        "id": "xvQgtP176j3h"
      },
      "outputs": [],
      "source": [
        "questions = ['converting string to list', 'Sending array via Ajax fails'] \n",
        "\n",
        "candidates = [['Convert Google results object (pure js) to Python object', # первый эксперимент\n",
        "               'C# create cookie from string and send it',\n",
        "               'How to use jQuery AJAX for an outside domain?'],\n",
        "              \n",
        "              ['Getting all list items of an unordered list in PHP',      # второй эксперимент\n",
        "               'WPF- How to update the changes in list item of a list',\n",
        "               'select2 not displaying search results']]"
      ]
    },
    {
      "cell_type": "code",
      "execution_count": null,
      "metadata": {
        "colab": {
          "base_uri": "https://localhost:8080/"
        },
        "id": "bPj1JGFi6j3m",
        "outputId": "132e2937-0328-4b73-caab-571319920a11"
      },
      "outputs": [
        {
          "output_type": "stream",
          "name": "stdout",
          "text": [
            "[(1, 'C# create cookie from string and send it'), (0, 'Convert Google results object (pure js) to Python object'), (2, 'How to use jQuery AJAX for an outside domain?')]\n",
            "\n",
            "[(1, 'WPF- How to update the changes in list item of a list'), (0, 'Getting all list items of an unordered list in PHP'), (2, 'select2 not displaying search results')]\n",
            "\n"
          ]
        }
      ],
      "source": [
        "for question, q_candidates in zip(questions, candidates):\n",
        "        ranks = rank_candidates(question, q_candidates, wv_embeddings, tokenizer)\n",
        "        print(ranks)\n",
        "        print()"
      ]
    },
    {
      "cell_type": "markdown",
      "metadata": {
        "id": "jm4cidj56j3q"
      },
      "source": [
        "Для первого экперимента вы можете полностью сравнить ваши ответы и правильные ответы. Но для второго эксперимента два ответа на кандидаты будут <b>скрыты</b>(*)"
      ]
    },
    {
      "cell_type": "code",
      "execution_count": null,
      "metadata": {
        "id": "0LeKMIsn6j3s"
      },
      "outputs": [],
      "source": [
        "# должно вывести\n",
        "# results = [[(1, 'C# create cookie from string and send it'),\n",
        "          #   (0, 'Convert Google results object (pure js) to Python object'),\n",
        "          #   (2, 'How to use jQuery AJAX for an outside domain?')],\n",
        "          #  [(*, 'Getting all list items of an unordered list in PHP'), #скрыт\n",
        "          #   (*, 'select2 not displaying search results'), #скрыт\n",
        "          #   (*, 'WPF- How to update the changes in list item of a list')]] #скрыт"
      ]
    },
    {
      "cell_type": "markdown",
      "metadata": {
        "id": "t1ttnIBe6j3x"
      },
      "source": [
        "Последовательность начальных индексов вы должны получить `для эксперимента 1`  1, 0, 2."
      ]
    },
    {
      "cell_type": "markdown",
      "metadata": {
        "id": "5WQgYDWd6j3y"
      },
      "source": [
        "#### Вопрос 5:\n",
        "* Какую последовательность начальных индексов вы получили `для эксперимента 2`(перечисление без запятой и пробелов, например, `102` для первого эксперимента?"
      ]
    },
    {
      "cell_type": "code",
      "execution_count": null,
      "metadata": {
        "id": "gcHBxNPsfH2P"
      },
      "outputs": [],
      "source": [
        "# 0, 2, 1"
      ]
    },
    {
      "cell_type": "markdown",
      "metadata": {
        "id": "fPllOY-Y6j30"
      },
      "source": [
        "Теперь мы можем оценить качество нашего метода. Запустите следующие два блока кода для получения результата. Обратите внимание, что вычисление расстояния между векторами занимает некоторое время (примерно 10 минут). Можете взять для validation 1000 примеров."
      ]
    },
    {
      "cell_type": "code",
      "execution_count": null,
      "metadata": {
        "id": "Z3q9sxddz-yU"
      },
      "outputs": [],
      "source": [
        "from tqdm.notebook import tqdm"
      ]
    },
    {
      "cell_type": "code",
      "execution_count": null,
      "metadata": {
        "colab": {
          "base_uri": "https://localhost:8080/",
          "height": 49,
          "referenced_widgets": [
            "f48e4f2563464232a7b428e3a307fc7a",
            "f98b8036201d43929467bc1eb562f2e5",
            "00a8cd54b98541dab37d1fe95e261be5",
            "9fb696c3ab6e40edbc1a601ddefada3a",
            "b63625e89cde44c7972c6be88e14953f",
            "98724f09716f45c1b583f8ec67879dfa",
            "0a40efcd17ac45c0ba4e6375a81ab01c",
            "bca23bd6656943a8915f6182b862a158",
            "67f39698b7fa4192b026c4f48bcc0503",
            "3a9087d4ef4f4c808e8e4c7f2af8a334",
            "253faa1467fe4aa890e701cf057be5c5"
          ]
        },
        "id": "nu7K4mis6j32",
        "outputId": "2665f9fa-6f12-4ddd-9491-72afb8c7643a"
      },
      "outputs": [
        {
          "data": {
            "application/vnd.jupyter.widget-view+json": {
              "model_id": "f48e4f2563464232a7b428e3a307fc7a",
              "version_major": 2,
              "version_minor": 0
            },
            "text/plain": [
              "  0%|          | 0/3760 [00:00<?, ?it/s]"
            ]
          },
          "metadata": {},
          "output_type": "display_data"
        }
      ],
      "source": [
        "wv_ranking = []\n",
        "max_validation_examples = 1000\n",
        "for i, line in enumerate(tqdm(validation_data)):\n",
        "    if i == max_validation_examples:\n",
        "        break\n",
        "    q, *ex = line\n",
        "    ranks = rank_candidates(q, ex, wv_embeddings, tokenizer)\n",
        "    try:\n",
        "      wv_ranking.append([r[0] for r in ranks].index('0') + 1)\n",
        "    except:\n",
        "      ..."
      ]
    },
    {
      "cell_type": "code",
      "execution_count": null,
      "metadata": {
        "id": "gDtS520v6j35",
        "scrolled": true
      },
      "outputs": [],
      "source": [
        "for k in tqdm([1, 5, 10, 100, 500, 1000]):\n",
        "    print(\"DCG@%4d: %.3f | Hits@%4d: %.3f\" % (k, dcg_score(wv_ranking, k), k, hits_count(wv_ranking, k)))"
      ]
    },
    {
      "cell_type": "markdown",
      "metadata": {
        "id": "LL6_Rjg3InL8"
      },
      "source": [
        "### Эмбеддинги, обученные на корпусе похожих вопросов"
      ]
    },
    {
      "cell_type": "code",
      "execution_count": null,
      "metadata": {
        "id": "iNvbpR5gJIPz"
      },
      "outputs": [],
      "source": [
        "train_data = read_corpus('/content/data/train.tsv')"
      ]
    },
    {
      "cell_type": "markdown",
      "metadata": {
        "id": "Nr281ZyEJfjT"
      },
      "source": [
        "Улучшите качество модели.<br>Склеим вопросы в пары и обучим на них модель Word2Vec из gensim. Выберите размер window. Объясните свой выбор."
      ]
    },
    {
      "cell_type": "code",
      "execution_count": null,
      "metadata": {
        "id": "f6Y46SSQMTL0",
        "colab": {
          "base_uri": "https://localhost:8080/"
        },
        "outputId": "1e7cd109-4aa6-4ad2-a2f3-ba418517adce"
      },
      "outputs": [
        {
          "output_type": "stream",
          "name": "stderr",
          "text": [
            "[nltk_data] Downloading package stopwords to /root/nltk_data...\n",
            "[nltk_data]   Unzipping corpora/stopwords.zip.\n",
            "[nltk_data] Downloading package punkt to /root/nltk_data...\n",
            "[nltk_data]   Unzipping tokenizers/punkt.zip.\n",
            "[nltk_data] Downloading package omw-1.4 to /root/nltk_data...\n",
            "[nltk_data] Downloading package wordnet to /root/nltk_data...\n"
          ]
        }
      ],
      "source": [
        "'''your code'''\n",
        "import nltk\n",
        "from nltk.corpus import stopwords\n",
        "from nltk.tokenize import word_tokenize\n",
        "nltk.download('stopwords')\n",
        "nltk.download('punkt')\n",
        "nltk.download('omw-1.4')\n",
        "stopWords = set(stopwords.words('english'))\n",
        "nltk.download('wordnet')\n",
        "wnl = nltk.WordNetLemmatizer()\n",
        "\n",
        "\n",
        "def preproc_nltk(text):\n",
        "    #text = re.sub(f'[{string.punctuation}]', ' ', text)\n",
        "    return ' '.join([wnl.lemmatize(word) for word in word_tokenize(text.lower()) if word not in stopWords])\n",
        "\n",
        "words = [preproc_nltk(text).split() for text in train_data]"
      ]
    },
    {
      "cell_type": "code",
      "execution_count": null,
      "metadata": {
        "id": "QuJzAM0cI-UH"
      },
      "outputs": [],
      "source": [
        "from gensim.models import Word2Vec\n",
        "embeddings_trained = Word2Vec(words, # data for model to train on\n",
        "                 size=200,                 # embedding vector size\n",
        "                 min_count=3, #'''your code''',             # consider words that occured at least 5 times\n",
        "                 window=3).wv #window='''your code''').wv"
      ]
    },
    {
      "cell_type": "code",
      "execution_count": null,
      "metadata": {
        "id": "OQonbm4nMenD"
      },
      "outputs": [],
      "source": [
        "wv_ranking = []\n",
        "max_validation_examples = 1000\n",
        "for i, line in enumerate(tqdm(validation_data)):\n",
        "    if i == max_validation_examples:\n",
        "        break\n",
        "    q, *ex = line\n",
        "    ranks = rank_candidates(q, ex, embeddings_trained, tokenizer)\n",
        "    try:\n",
        "      wv_ranking.append([r[0] for r in ranks].index('0') + 1)\n",
        "    except:\n",
        "      ..."
      ]
    },
    {
      "cell_type": "code",
      "execution_count": null,
      "metadata": {
        "id": "3kahBUPGMgGR"
      },
      "outputs": [],
      "source": [
        "for k in tqdm([1, 5, 10, 100, 500, 1000]):\n",
        "    print(\"DCG@%4d: %.3f | Hits@%4d: %.3f\" % (k, dcg_score(wv_ranking, k), k, hits_count(wv_ranking, k)))"
      ]
    },
    {
      "cell_type": "markdown",
      "metadata": {
        "id": "tY8PxB0j-ThG"
      },
      "source": [
        "### Замечание:\n",
        "Решить эту задачу с помощью обучения полноценной нейронной сети будет вам предложено, как часть задания в одной из домашних работ по теме \"Диалоговые системы\"."
      ]
    },
    {
      "cell_type": "markdown",
      "metadata": {
        "id": "vymVj8IxO2PO"
      },
      "source": [
        "Напишите свой вывод о полученных результатах.\n",
        "* Какой принцип токенизации даёт качество лучше и почему?\n",
        "* Помогает ли нормализация слов?\n",
        "* Какие эмбеддинги лучше справляются с задачей и почему?\n",
        "* Почему получилось плохое качество решения задачи?\n",
        "* Предложите свой подход к решению задачи.\n",
        "\n",
        "## Вывод:\n"
      ]
    },
    {
      "cell_type": "markdown",
      "metadata": {
        "id": "emODHztAQUQz"
      },
      "source": [
        "*   Были испробованы несколько подходов токенизации: выделение слов посредством \n",
        "регулярных выражений, регулярки + приведение к нижнему регистру + отбрасывание stopwords, регулярки + нижний регистр + лемматизация + отбрасывание stopwords, регулярки + нижний регистр + стемминг + отбрасывание stopwords. Наилучший результат показал подход \"регулярки + приведение к нижнему регистру + отбрасывание stopwords\"; лемматизация занимает слишком много времени.\n",
        "\n",
        "*   В проведенных экспериментах нормализация наоборот ухудшило качество модели(можно, наверное, списать на название домашнего задания \"простой эмбеддинг\", которое вводит в курс дела). В теории, нормализация должна повысить качество модели.\n",
        "\n",
        "*   В задании было рассмотрено 2 эмбеддинга: предобученный на корпусе вопросов со stackoverflow и обученный нами. Лучшее качество показал предобученный, это, скорее всего, связано с размером корпуса для этого эмбеддинга. Объема нашей тренировочной выборки по-видимому не хватает для обеспечения такого же качества.\n",
        "\n",
        "*   В данном задании были использованы простейшие методы для ранжирования схожих вопросов, поэтому не получилось достичь хорошего качества. Так же следовало бы изучить состав тренировочной выборки и тестовой: в тестовой выборки могут быть слова не встречающиеся в тренировочной, а векторное преставление нашего предложения находится как среднее по всем векторам, а новые слова задаются нулевым вектором. Такой подход и приводит к невысокому качеству решения задачи.\n",
        "\n",
        "*   Регулярки + приведение к нижнему регистру(возможно за исключением общепринятых аббревиатур) + отбрасывание stopwords + лемматизация + предобученный на большом корпусе вопросов stackoverflow эмбеддинг + другое представление предложения(возможно суммирование всех слов с весами + альтернативная обработка не встречавшихся слов)"
      ]
    }
  ],
  "metadata": {
    "colab": {
      "collapsed_sections": [
        "BIWqBuEa6j0b",
        "0sUSxk866j1_"
      ],
      "provenance": []
    },
    "gpuClass": "standard",
    "kernelspec": {
      "display_name": "Python 3",
      "language": "python",
      "name": "python3"
    },
    "language_info": {
      "codemirror_mode": {
        "name": "ipython",
        "version": 3
      },
      "file_extension": ".py",
      "mimetype": "text/x-python",
      "name": "python",
      "nbconvert_exporter": "python",
      "pygments_lexer": "ipython3",
      "version": "3.7.2"
    },
    "widgets": {
      "application/vnd.jupyter.widget-state+json": {
        "f48e4f2563464232a7b428e3a307fc7a": {
          "model_module": "@jupyter-widgets/controls",
          "model_name": "HBoxModel",
          "model_module_version": "1.5.0",
          "state": {
            "_dom_classes": [],
            "_model_module": "@jupyter-widgets/controls",
            "_model_module_version": "1.5.0",
            "_model_name": "HBoxModel",
            "_view_count": null,
            "_view_module": "@jupyter-widgets/controls",
            "_view_module_version": "1.5.0",
            "_view_name": "HBoxView",
            "box_style": "",
            "children": [
              "IPY_MODEL_f98b8036201d43929467bc1eb562f2e5",
              "IPY_MODEL_00a8cd54b98541dab37d1fe95e261be5",
              "IPY_MODEL_9fb696c3ab6e40edbc1a601ddefada3a"
            ],
            "layout": "IPY_MODEL_b63625e89cde44c7972c6be88e14953f"
          }
        },
        "f98b8036201d43929467bc1eb562f2e5": {
          "model_module": "@jupyter-widgets/controls",
          "model_name": "HTMLModel",
          "model_module_version": "1.5.0",
          "state": {
            "_dom_classes": [],
            "_model_module": "@jupyter-widgets/controls",
            "_model_module_version": "1.5.0",
            "_model_name": "HTMLModel",
            "_view_count": null,
            "_view_module": "@jupyter-widgets/controls",
            "_view_module_version": "1.5.0",
            "_view_name": "HTMLView",
            "description": "",
            "description_tooltip": null,
            "layout": "IPY_MODEL_98724f09716f45c1b583f8ec67879dfa",
            "placeholder": "​",
            "style": "IPY_MODEL_0a40efcd17ac45c0ba4e6375a81ab01c",
            "value": " 27%"
          }
        },
        "00a8cd54b98541dab37d1fe95e261be5": {
          "model_module": "@jupyter-widgets/controls",
          "model_name": "FloatProgressModel",
          "model_module_version": "1.5.0",
          "state": {
            "_dom_classes": [],
            "_model_module": "@jupyter-widgets/controls",
            "_model_module_version": "1.5.0",
            "_model_name": "FloatProgressModel",
            "_view_count": null,
            "_view_module": "@jupyter-widgets/controls",
            "_view_module_version": "1.5.0",
            "_view_name": "ProgressView",
            "bar_style": "danger",
            "description": "",
            "description_tooltip": null,
            "layout": "IPY_MODEL_bca23bd6656943a8915f6182b862a158",
            "max": 3760,
            "min": 0,
            "orientation": "horizontal",
            "style": "IPY_MODEL_67f39698b7fa4192b026c4f48bcc0503",
            "value": 1000
          }
        },
        "9fb696c3ab6e40edbc1a601ddefada3a": {
          "model_module": "@jupyter-widgets/controls",
          "model_name": "HTMLModel",
          "model_module_version": "1.5.0",
          "state": {
            "_dom_classes": [],
            "_model_module": "@jupyter-widgets/controls",
            "_model_module_version": "1.5.0",
            "_model_name": "HTMLModel",
            "_view_count": null,
            "_view_module": "@jupyter-widgets/controls",
            "_view_module_version": "1.5.0",
            "_view_name": "HTMLView",
            "description": "",
            "description_tooltip": null,
            "layout": "IPY_MODEL_3a9087d4ef4f4c808e8e4c7f2af8a334",
            "placeholder": "​",
            "style": "IPY_MODEL_253faa1467fe4aa890e701cf057be5c5",
            "value": " 1000/3760 [4:35:43&lt;12:32:27, 16.36s/it]"
          }
        },
        "b63625e89cde44c7972c6be88e14953f": {
          "model_module": "@jupyter-widgets/base",
          "model_name": "LayoutModel",
          "model_module_version": "1.2.0",
          "state": {
            "_model_module": "@jupyter-widgets/base",
            "_model_module_version": "1.2.0",
            "_model_name": "LayoutModel",
            "_view_count": null,
            "_view_module": "@jupyter-widgets/base",
            "_view_module_version": "1.2.0",
            "_view_name": "LayoutView",
            "align_content": null,
            "align_items": null,
            "align_self": null,
            "border": null,
            "bottom": null,
            "display": null,
            "flex": null,
            "flex_flow": null,
            "grid_area": null,
            "grid_auto_columns": null,
            "grid_auto_flow": null,
            "grid_auto_rows": null,
            "grid_column": null,
            "grid_gap": null,
            "grid_row": null,
            "grid_template_areas": null,
            "grid_template_columns": null,
            "grid_template_rows": null,
            "height": null,
            "justify_content": null,
            "justify_items": null,
            "left": null,
            "margin": null,
            "max_height": null,
            "max_width": null,
            "min_height": null,
            "min_width": null,
            "object_fit": null,
            "object_position": null,
            "order": null,
            "overflow": null,
            "overflow_x": null,
            "overflow_y": null,
            "padding": null,
            "right": null,
            "top": null,
            "visibility": null,
            "width": null
          }
        },
        "98724f09716f45c1b583f8ec67879dfa": {
          "model_module": "@jupyter-widgets/base",
          "model_name": "LayoutModel",
          "model_module_version": "1.2.0",
          "state": {
            "_model_module": "@jupyter-widgets/base",
            "_model_module_version": "1.2.0",
            "_model_name": "LayoutModel",
            "_view_count": null,
            "_view_module": "@jupyter-widgets/base",
            "_view_module_version": "1.2.0",
            "_view_name": "LayoutView",
            "align_content": null,
            "align_items": null,
            "align_self": null,
            "border": null,
            "bottom": null,
            "display": null,
            "flex": null,
            "flex_flow": null,
            "grid_area": null,
            "grid_auto_columns": null,
            "grid_auto_flow": null,
            "grid_auto_rows": null,
            "grid_column": null,
            "grid_gap": null,
            "grid_row": null,
            "grid_template_areas": null,
            "grid_template_columns": null,
            "grid_template_rows": null,
            "height": null,
            "justify_content": null,
            "justify_items": null,
            "left": null,
            "margin": null,
            "max_height": null,
            "max_width": null,
            "min_height": null,
            "min_width": null,
            "object_fit": null,
            "object_position": null,
            "order": null,
            "overflow": null,
            "overflow_x": null,
            "overflow_y": null,
            "padding": null,
            "right": null,
            "top": null,
            "visibility": null,
            "width": null
          }
        },
        "0a40efcd17ac45c0ba4e6375a81ab01c": {
          "model_module": "@jupyter-widgets/controls",
          "model_name": "DescriptionStyleModel",
          "model_module_version": "1.5.0",
          "state": {
            "_model_module": "@jupyter-widgets/controls",
            "_model_module_version": "1.5.0",
            "_model_name": "DescriptionStyleModel",
            "_view_count": null,
            "_view_module": "@jupyter-widgets/base",
            "_view_module_version": "1.2.0",
            "_view_name": "StyleView",
            "description_width": ""
          }
        },
        "bca23bd6656943a8915f6182b862a158": {
          "model_module": "@jupyter-widgets/base",
          "model_name": "LayoutModel",
          "model_module_version": "1.2.0",
          "state": {
            "_model_module": "@jupyter-widgets/base",
            "_model_module_version": "1.2.0",
            "_model_name": "LayoutModel",
            "_view_count": null,
            "_view_module": "@jupyter-widgets/base",
            "_view_module_version": "1.2.0",
            "_view_name": "LayoutView",
            "align_content": null,
            "align_items": null,
            "align_self": null,
            "border": null,
            "bottom": null,
            "display": null,
            "flex": null,
            "flex_flow": null,
            "grid_area": null,
            "grid_auto_columns": null,
            "grid_auto_flow": null,
            "grid_auto_rows": null,
            "grid_column": null,
            "grid_gap": null,
            "grid_row": null,
            "grid_template_areas": null,
            "grid_template_columns": null,
            "grid_template_rows": null,
            "height": null,
            "justify_content": null,
            "justify_items": null,
            "left": null,
            "margin": null,
            "max_height": null,
            "max_width": null,
            "min_height": null,
            "min_width": null,
            "object_fit": null,
            "object_position": null,
            "order": null,
            "overflow": null,
            "overflow_x": null,
            "overflow_y": null,
            "padding": null,
            "right": null,
            "top": null,
            "visibility": null,
            "width": null
          }
        },
        "67f39698b7fa4192b026c4f48bcc0503": {
          "model_module": "@jupyter-widgets/controls",
          "model_name": "ProgressStyleModel",
          "model_module_version": "1.5.0",
          "state": {
            "_model_module": "@jupyter-widgets/controls",
            "_model_module_version": "1.5.0",
            "_model_name": "ProgressStyleModel",
            "_view_count": null,
            "_view_module": "@jupyter-widgets/base",
            "_view_module_version": "1.2.0",
            "_view_name": "StyleView",
            "bar_color": null,
            "description_width": ""
          }
        },
        "3a9087d4ef4f4c808e8e4c7f2af8a334": {
          "model_module": "@jupyter-widgets/base",
          "model_name": "LayoutModel",
          "model_module_version": "1.2.0",
          "state": {
            "_model_module": "@jupyter-widgets/base",
            "_model_module_version": "1.2.0",
            "_model_name": "LayoutModel",
            "_view_count": null,
            "_view_module": "@jupyter-widgets/base",
            "_view_module_version": "1.2.0",
            "_view_name": "LayoutView",
            "align_content": null,
            "align_items": null,
            "align_self": null,
            "border": null,
            "bottom": null,
            "display": null,
            "flex": null,
            "flex_flow": null,
            "grid_area": null,
            "grid_auto_columns": null,
            "grid_auto_flow": null,
            "grid_auto_rows": null,
            "grid_column": null,
            "grid_gap": null,
            "grid_row": null,
            "grid_template_areas": null,
            "grid_template_columns": null,
            "grid_template_rows": null,
            "height": null,
            "justify_content": null,
            "justify_items": null,
            "left": null,
            "margin": null,
            "max_height": null,
            "max_width": null,
            "min_height": null,
            "min_width": null,
            "object_fit": null,
            "object_position": null,
            "order": null,
            "overflow": null,
            "overflow_x": null,
            "overflow_y": null,
            "padding": null,
            "right": null,
            "top": null,
            "visibility": null,
            "width": null
          }
        },
        "253faa1467fe4aa890e701cf057be5c5": {
          "model_module": "@jupyter-widgets/controls",
          "model_name": "DescriptionStyleModel",
          "model_module_version": "1.5.0",
          "state": {
            "_model_module": "@jupyter-widgets/controls",
            "_model_module_version": "1.5.0",
            "_model_name": "DescriptionStyleModel",
            "_view_count": null,
            "_view_module": "@jupyter-widgets/base",
            "_view_module_version": "1.2.0",
            "_view_name": "StyleView",
            "description_width": ""
          }
        }
      }
    }
  },
  "nbformat": 4,
  "nbformat_minor": 0
}