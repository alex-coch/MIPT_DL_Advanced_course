{
 "cells": [
  {
   "cell_type": "markdown",
   "id": "fe8f6112",
   "metadata": {
    "papermill": {
     "duration": 0.024403,
     "end_time": "2021-11-22T05:57:56.862408",
     "exception": false,
     "start_time": "2021-11-22T05:57:56.838005",
     "status": "completed"
    },
    "tags": []
   },
   "source": [
    "# Преображенская С.А. - 11.21"
   ]
  },
  {
   "cell_type": "code",
   "execution_count": 1,
   "id": "c56bc214",
   "metadata": {
    "execution": {
     "iopub.execute_input": "2021-11-22T05:57:56.909168Z",
     "iopub.status.busy": "2021-11-22T05:57:56.908122Z",
     "iopub.status.idle": "2021-11-22T05:59:00.984215Z",
     "shell.execute_reply": "2021-11-22T05:59:00.983505Z"
    },
    "papermill": {
     "duration": 64.100297,
     "end_time": "2021-11-22T05:59:00.984425",
     "exception": false,
     "start_time": "2021-11-22T05:57:56.884128",
     "status": "completed"
    },
    "tags": []
   },
   "outputs": [
    {
     "name": "stdout",
     "output_type": "stream",
     "text": [
      "Requirement already satisfied: torch in /opt/conda/lib/python3.7/site-packages (1.9.1+cpu)\r\n",
      "Collecting torch\r\n",
      "  Downloading torch-1.10.0-cp37-cp37m-manylinux1_x86_64.whl (881.9 MB)\r\n",
      "\u001b[K     |████████████████████████████████| 881.9 MB 13 kB/s \r\n",
      "\u001b[?25hRequirement already satisfied: torchvision in /opt/conda/lib/python3.7/site-packages (0.10.1+cpu)\r\n",
      "Collecting torchvision\r\n",
      "  Downloading torchvision-0.11.1-cp37-cp37m-manylinux1_x86_64.whl (23.3 MB)\r\n",
      "\u001b[K     |████████████████████████████████| 23.3 MB 50.2 MB/s \r\n",
      "\u001b[?25hRequirement already satisfied: typing-extensions in /opt/conda/lib/python3.7/site-packages (from torch) (3.10.0.2)\r\n",
      "Requirement already satisfied: numpy in /opt/conda/lib/python3.7/site-packages (from torchvision) (1.19.5)\r\n",
      "Requirement already satisfied: pillow!=8.3.0,>=5.3.0 in /opt/conda/lib/python3.7/site-packages (from torchvision) (8.2.0)\r\n",
      "Installing collected packages: torch, torchvision\r\n",
      "  Attempting uninstall: torch\r\n",
      "    Found existing installation: torch 1.9.1+cpu\r\n",
      "    Uninstalling torch-1.9.1+cpu:\r\n",
      "      Successfully uninstalled torch-1.9.1+cpu\r\n",
      "  Attempting uninstall: torchvision\r\n",
      "    Found existing installation: torchvision 0.10.1+cpu\r\n",
      "    Uninstalling torchvision-0.10.1+cpu:\r\n",
      "      Successfully uninstalled torchvision-0.10.1+cpu\r\n",
      "\u001b[31mERROR: pip's dependency resolver does not currently take into account all the packages that are installed. This behaviour is the source of the following dependency conflicts.\r\n",
      "torchtext 0.10.1 requires torch==1.9.1, but you have torch 1.10.0 which is incompatible.\r\n",
      "torchaudio 0.9.1 requires torch==1.9.1, but you have torch 1.10.0 which is incompatible.\r\n",
      "allennlp 2.7.0 requires torch<1.10.0,>=1.6.0, but you have torch 1.10.0 which is incompatible.\r\n",
      "allennlp 2.7.0 requires torchvision<0.11.0,>=0.8.1, but you have torchvision 0.11.1 which is incompatible.\u001b[0m\r\n",
      "Successfully installed torch-1.10.0 torchvision-0.11.1\r\n",
      "\u001b[33mWARNING: Running pip as the 'root' user can result in broken permissions and conflicting behaviour with the system package manager. It is recommended to use a virtual environment instead: https://pip.pypa.io/warnings/venv\u001b[0m\r\n"
     ]
    }
   ],
   "source": [
    "!pip install -U torch torchvision;"
   ]
  },
  {
   "cell_type": "markdown",
   "id": "a38d6467",
   "metadata": {
    "papermill": {
     "duration": 0.299456,
     "end_time": "2021-11-22T05:59:01.594010",
     "exception": false,
     "start_time": "2021-11-22T05:59:01.294554",
     "status": "completed"
    },
    "tags": []
   },
   "source": [
    "## 0. Загружаем библиотеки, инициализируем случайные числа, задаем константы"
   ]
  },
  {
   "cell_type": "code",
   "execution_count": 2,
   "id": "6949ad89",
   "metadata": {
    "execution": {
     "iopub.execute_input": "2021-11-22T05:59:02.184211Z",
     "iopub.status.busy": "2021-11-22T05:59:02.183529Z",
     "iopub.status.idle": "2021-11-22T05:59:03.791651Z",
     "shell.execute_reply": "2021-11-22T05:59:03.791006Z",
     "shell.execute_reply.started": "2021-11-21T17:04:05.891523Z"
    },
    "papermill": {
     "duration": 1.906249,
     "end_time": "2021-11-22T05:59:03.791792",
     "exception": false,
     "start_time": "2021-11-22T05:59:01.885543",
     "status": "completed"
    },
    "tags": []
   },
   "outputs": [
    {
     "name": "stderr",
     "output_type": "stream",
     "text": [
      "/opt/conda/lib/python3.7/site-packages/ipykernel_launcher.py:2: TqdmExperimentalWarning: Using `tqdm.autonotebook.tqdm` in notebook mode. Use `tqdm.tqdm` instead to force console mode (e.g. in jupyter console)\n",
      "  \n"
     ]
    }
   ],
   "source": [
    "import os\n",
    "from tqdm.autonotebook import tqdm, trange\n",
    "\n",
    "import torch\n",
    "import torch.nn as nn\n",
    "import torch.optim as optim\n",
    "from torch.optim import lr_scheduler\n",
    "\n",
    "import numpy as np\n",
    "import torchvision\n",
    "from torchvision import datasets, models, transforms\n",
    "import matplotlib.pyplot as plt\n",
    "import time\n",
    "\n",
    "from sklearn.model_selection import train_test_split\n",
    "from pathlib import Path\n",
    "from torch.utils.data import DataLoader\n",
    "\n",
    "from torch.utils.data import Dataset\n",
    "from sklearn.preprocessing import LabelEncoder\n",
    "import pickle\n",
    "from PIL import Image"
   ]
  },
  {
   "cell_type": "code",
   "execution_count": 3,
   "id": "7cee761d",
   "metadata": {
    "execution": {
     "iopub.execute_input": "2021-11-22T05:59:04.451589Z",
     "iopub.status.busy": "2021-11-22T05:59:04.450674Z",
     "iopub.status.idle": "2021-11-22T05:59:04.455110Z",
     "shell.execute_reply": "2021-11-22T05:59:04.454586Z",
     "shell.execute_reply.started": "2021-11-21T17:04:13.970368Z"
    },
    "papermill": {
     "duration": 0.303119,
     "end_time": "2021-11-22T05:59:04.455243",
     "exception": false,
     "start_time": "2021-11-22T05:59:04.152124",
     "status": "completed"
    },
    "tags": []
   },
   "outputs": [],
   "source": [
    "import random \n",
    "SEED = 7\n",
    "\n",
    "random.seed(SEED)\n",
    "np.random.seed(SEED)\n",
    "torch.manual_seed(SEED)\n",
    "torch.cuda.manual_seed(SEED)\n",
    "torch.backends.cudnn.deterministic = True"
   ]
  },
  {
   "cell_type": "code",
   "execution_count": 4,
   "id": "b7042f85",
   "metadata": {
    "execution": {
     "iopub.execute_input": "2021-11-22T05:59:05.084497Z",
     "iopub.status.busy": "2021-11-22T05:59:05.083731Z",
     "iopub.status.idle": "2021-11-22T05:59:05.086788Z",
     "shell.execute_reply": "2021-11-22T05:59:05.085050Z",
     "shell.execute_reply.started": "2021-11-21T17:04:15.927392Z"
    },
    "papermill": {
     "duration": 0.334119,
     "end_time": "2021-11-22T05:59:05.086976",
     "exception": false,
     "start_time": "2021-11-22T05:59:04.752857",
     "status": "completed"
    },
    "tags": []
   },
   "outputs": [
    {
     "name": "stdout",
     "output_type": "stream",
     "text": [
      "cpu\n"
     ]
    }
   ],
   "source": [
    "TRAIN_DIR = Path('../input/journey-springfield/train')\n",
    "TEST_DIR = Path('../input/journey-springfield/testset')\n",
    "\n",
    "#я работаю в kaggle-ноутбуке\n",
    "\n",
    "DATA_MODES = ['train', 'val', 'test']\n",
    "RESCALE_SIZE = 224\n",
    "DEVICE = 'cuda:0' if torch.cuda.is_available() else 'cpu'\n",
    "CUDA_LAUNCH_BLOCKING=1\n",
    "BATCH_SIZE=128\n",
    "\n",
    "print(DEVICE)"
   ]
  },
  {
   "cell_type": "markdown",
   "id": "973f48f0",
   "metadata": {
    "papermill": {
     "duration": 0.307343,
     "end_time": "2021-11-22T05:59:05.704002",
     "exception": false,
     "start_time": "2021-11-22T05:59:05.396659",
     "status": "completed"
    },
    "tags": []
   },
   "source": [
    "## 1. Создаем класс для датасета. Добавила в него аугментации для режима 'train'."
   ]
  },
  {
   "cell_type": "code",
   "execution_count": 5,
   "id": "dd55fc48",
   "metadata": {
    "execution": {
     "iopub.execute_input": "2021-11-22T05:59:06.833617Z",
     "iopub.status.busy": "2021-11-22T05:59:06.832635Z",
     "iopub.status.idle": "2021-11-22T05:59:06.840257Z",
     "shell.execute_reply": "2021-11-22T05:59:06.840719Z",
     "shell.execute_reply.started": "2021-11-21T17:04:17.856909Z"
    },
    "papermill": {
     "duration": 0.391889,
     "end_time": "2021-11-22T05:59:06.840907",
     "exception": false,
     "start_time": "2021-11-22T05:59:06.449018",
     "status": "completed"
    },
    "tags": []
   },
   "outputs": [],
   "source": [
    "class SimpsonsDataset(Dataset):\n",
    "\n",
    "    def __init__(self, files, mode):\n",
    "        super().__init__()\n",
    "        self.files = sorted(files)\n",
    "        self.mode = mode\n",
    "\n",
    "        if self.mode not in DATA_MODES:\n",
    "            print(f\"{self.mode} is not correct; correct modes: {DATA_MODES}\")\n",
    "            raise NameError\n",
    "\n",
    "        self.len_ = len(self.files)\n",
    "     \n",
    "        self.label_encoder = LabelEncoder()\n",
    "\n",
    "        if self.mode != 'test':\n",
    "            self.labels = [path.parent.name for path in self.files]\n",
    "            self.label_encoder.fit(self.labels)\n",
    "\n",
    "            with open('label_encoder.pkl', 'wb') as le_dump_file:\n",
    "                  pickle.dump(self.label_encoder, le_dump_file)\n",
    "                      \n",
    "    def __len__(self):\n",
    "        return self.len_\n",
    "      \n",
    "    def load_sample(self, file):\n",
    "        image = Image.open(file)\n",
    "        image.load()\n",
    "        return image\n",
    "  \n",
    "    def __getitem__(self, index):\n",
    "        transform = transforms.Compose([\n",
    "            transforms.ToTensor(),\n",
    "            transforms.Normalize([0.485, 0.456, 0.406], [0.229, 0.224, 0.225]) \n",
    "        ])\n",
    "        data_transforms = transforms.Compose([\n",
    "        transforms.ToTensor(),\n",
    "        transforms.Normalize([0.485, 0.456, 0.406], [0.229, 0.224, 0.225]),\n",
    "        transforms.RandomHorizontalFlip(p=0.5),\n",
    "        transforms.RandomAutocontrast(p=0.5),])\n",
    "        x = self.load_sample(self.files[index])\n",
    "        x = self._prepare_sample(x)\n",
    "        x = np.array(x / 255, dtype='float32')\n",
    "        if self.mode == 'train':\n",
    "          x = data_transforms(x)\n",
    "        else:\n",
    "          x = transform(x)\n",
    "        if self.mode == 'test':\n",
    "            return x\n",
    "        else:\n",
    "            label = self.labels[index]\n",
    "            label_id = self.label_encoder.transform([label])\n",
    "            y = label_id.item()\n",
    "            return x, y\n",
    "        \n",
    "    def _prepare_sample(self, image):\n",
    "        image = image.resize((RESCALE_SIZE, RESCALE_SIZE))\n",
    "        return np.array(image)"
   ]
  },
  {
   "cell_type": "markdown",
   "id": "5eae2397",
   "metadata": {
    "papermill": {
     "duration": 0.292049,
     "end_time": "2021-11-22T05:59:07.462575",
     "exception": false,
     "start_time": "2021-11-22T05:59:07.170526",
     "status": "completed"
    },
    "tags": []
   },
   "source": [
    "## 2. Загрузка данных. Проведена балансировка данных (код украден из комментов к задаче). В классах, в которых количество картинок меньше 100, картинки просто дублируются до 100. При этом аугментация должна помочь с переобучением."
   ]
  },
  {
   "cell_type": "code",
   "execution_count": 6,
   "id": "c37b7366",
   "metadata": {
    "execution": {
     "iopub.execute_input": "2021-11-22T05:59:08.049963Z",
     "iopub.status.busy": "2021-11-22T05:59:08.048986Z",
     "iopub.status.idle": "2021-11-22T05:59:15.054984Z",
     "shell.execute_reply": "2021-11-22T05:59:15.054335Z",
     "shell.execute_reply.started": "2021-11-21T17:04:21.279804Z"
    },
    "papermill": {
     "duration": 7.299929,
     "end_time": "2021-11-22T05:59:15.055129",
     "exception": false,
     "start_time": "2021-11-22T05:59:07.755200",
     "status": "completed"
    },
    "tags": []
   },
   "outputs": [],
   "source": [
    "train_val_files = sorted(list(TRAIN_DIR.rglob('*.jpg')))\n",
    "test_files = sorted(list(TEST_DIR.rglob('*.jpg')))\n",
    "\n",
    "from sklearn.model_selection import train_test_split\n",
    "\n",
    "train_val_labels = [path.parent.name for path in train_val_files]\n",
    "train_files, val_files = train_test_split(train_val_files, test_size=0.25, \\\n",
    "                                          stratify=train_val_labels)"
   ]
  },
  {
   "cell_type": "code",
   "execution_count": 7,
   "id": "c8a1ab71",
   "metadata": {
    "execution": {
     "iopub.execute_input": "2021-11-22T05:59:15.646468Z",
     "iopub.status.busy": "2021-11-22T05:59:15.645890Z",
     "iopub.status.idle": "2021-11-22T05:59:15.660483Z",
     "shell.execute_reply": "2021-11-22T05:59:15.660971Z",
     "shell.execute_reply.started": "2021-11-21T17:04:23.67127Z"
    },
    "papermill": {
     "duration": 0.307046,
     "end_time": "2021-11-22T05:59:15.661129",
     "exception": false,
     "start_time": "2021-11-22T05:59:15.354083",
     "status": "completed"
    },
    "tags": []
   },
   "outputs": [
    {
     "data": {
      "text/plain": [
       "42"
      ]
     },
     "execution_count": 7,
     "metadata": {},
     "output_type": "execute_result"
    }
   ],
   "source": [
    "n_classes = len(np.unique(train_val_labels))\n",
    "n_classes"
   ]
  },
  {
   "cell_type": "code",
   "execution_count": 8,
   "id": "83992254",
   "metadata": {
    "execution": {
     "iopub.execute_input": "2021-11-22T05:59:16.297231Z",
     "iopub.status.busy": "2021-11-22T05:59:16.296273Z",
     "iopub.status.idle": "2021-11-22T05:59:16.342255Z",
     "shell.execute_reply": "2021-11-22T05:59:16.341718Z",
     "shell.execute_reply.started": "2021-11-21T17:04:25.560075Z"
    },
    "papermill": {
     "duration": 0.387878,
     "end_time": "2021-11-22T05:59:16.342428",
     "exception": false,
     "start_time": "2021-11-22T05:59:15.954550",
     "status": "completed"
    },
    "tags": []
   },
   "outputs": [],
   "source": [
    "train_labels = [path.parent.name for path in train_files] # классы train\n",
    "val_labels = [path.parent.name for path in val_files]     # классы val"
   ]
  },
  {
   "cell_type": "code",
   "execution_count": 9,
   "id": "ff9b7b34",
   "metadata": {
    "execution": {
     "iopub.execute_input": "2021-11-22T05:59:16.982903Z",
     "iopub.status.busy": "2021-11-22T05:59:16.982017Z",
     "iopub.status.idle": "2021-11-22T05:59:16.988375Z",
     "shell.execute_reply": "2021-11-22T05:59:16.988913Z",
     "shell.execute_reply.started": "2021-11-21T17:04:27.640612Z"
    },
    "papermill": {
     "duration": 0.322884,
     "end_time": "2021-11-22T05:59:16.989077",
     "exception": false,
     "start_time": "2021-11-22T05:59:16.666193",
     "status": "completed"
    },
    "tags": []
   },
   "outputs": [],
   "source": [
    "def create_dct_path_labels(train_files, train_labels):\n",
    "    dct_simpsons = {}\n",
    "    for label_i in np.unique(train_labels).tolist():\n",
    "        dct_simpsons[label_i] = []\n",
    "\n",
    "    for path_i, label_i in zip(train_files, train_labels):\n",
    "        dct_simpsons[label_i].append(path_i)\n",
    "\n",
    "    return dct_simpsons\n",
    "\n",
    "def print_dct(dct_simpsons):\n",
    "    for key in dct_simpsons:\n",
    "        print(f\"{key}\\t{dct_simpsons[key]}\")"
   ]
  },
  {
   "cell_type": "code",
   "execution_count": 10,
   "id": "8f771649",
   "metadata": {
    "execution": {
     "iopub.execute_input": "2021-11-22T05:59:17.577737Z",
     "iopub.status.busy": "2021-11-22T05:59:17.577092Z",
     "iopub.status.idle": "2021-11-22T05:59:17.590112Z",
     "shell.execute_reply": "2021-11-22T05:59:17.589518Z",
     "shell.execute_reply.started": "2021-11-21T17:04:29.998476Z"
    },
    "papermill": {
     "duration": 0.308847,
     "end_time": "2021-11-22T05:59:17.590243",
     "exception": false,
     "start_time": "2021-11-22T05:59:17.281396",
     "status": "completed"
    },
    "tags": []
   },
   "outputs": [],
   "source": [
    "dct_path_train = create_dct_path_labels(train_files, train_labels)"
   ]
  },
  {
   "cell_type": "code",
   "execution_count": 11,
   "id": "56e0dd65",
   "metadata": {
    "execution": {
     "iopub.execute_input": "2021-11-22T05:59:18.182967Z",
     "iopub.status.busy": "2021-11-22T05:59:18.181955Z",
     "iopub.status.idle": "2021-11-22T05:59:18.189440Z",
     "shell.execute_reply": "2021-11-22T05:59:18.188865Z",
     "shell.execute_reply.started": "2021-11-21T17:04:32.412592Z"
    },
    "papermill": {
     "duration": 0.307052,
     "end_time": "2021-11-22T05:59:18.189571",
     "exception": false,
     "start_time": "2021-11-22T05:59:17.882519",
     "status": "completed"
    },
    "tags": []
   },
   "outputs": [
    {
     "name": "stdout",
     "output_type": "stream",
     "text": [
      "abraham_grampa_simpson\t685\n",
      "agnes_skinner\t100\n",
      "apu_nahasapeemapetilon\t467\n",
      "barney_gumble\t100\n",
      "bart_simpson\t1006\n",
      "carl_carlson\t100\n",
      "charles_montgomery_burns\t895\n",
      "chief_wiggum\t739\n",
      "cletus_spuckler\t100\n",
      "comic_book_guy\t352\n",
      "disco_stu\t100\n",
      "edna_krabappel\t343\n",
      "fat_tony\t100\n",
      "gil\t100\n",
      "groundskeeper_willie\t100\n",
      "homer_simpson\t1684\n",
      "kent_brockman\t373\n",
      "krusty_the_clown\t904\n",
      "lenny_leonard\t233\n",
      "lionel_hutz\t100\n",
      "lisa_simpson\t1015\n",
      "maggie_simpson\t100\n",
      "marge_simpson\t968\n",
      "martin_prince\t100\n",
      "mayor_quimby\t185\n",
      "milhouse_van_houten\t809\n",
      "miss_hoover\t100\n",
      "moe_szyslak\t1089\n",
      "ned_flanders\t1090\n",
      "nelson_muntz\t269\n",
      "otto_mann\t100\n",
      "patty_bouvier\t100\n",
      "principal_skinner\t895\n",
      "professor_john_frink\t100\n",
      "rainier_wolfcastle\t100\n",
      "ralph_wiggum\t100\n",
      "selma_bouvier\t100\n",
      "sideshow_bob\t658\n",
      "sideshow_mel\t100\n",
      "snake_jailbird\t100\n",
      "troy_mcclure\t100\n",
      "waylon_smithers\t136\n"
     ]
    }
   ],
   "source": [
    "# Дополним картинки классов у которых менее 100 картинок, до 100 картинок в классе\n",
    "for person in dct_path_train:\n",
    "    if len(dct_path_train[person]) < 100:\n",
    "        dct_path_train[person] = dct_path_train[person] * (100 // len(dct_path_train[person]))\n",
    "        dct_path_train[person].extend(dct_path_train[person][:100 - len(dct_path_train[person])])\n",
    "\n",
    "# Проверим что получилось \n",
    "for person in dct_path_train:\n",
    "    print(f\"{person}\\t{len(dct_path_train[person])}\")"
   ]
  },
  {
   "cell_type": "code",
   "execution_count": 12,
   "id": "aa2e9d78",
   "metadata": {
    "execution": {
     "iopub.execute_input": "2021-11-22T05:59:18.782688Z",
     "iopub.status.busy": "2021-11-22T05:59:18.782071Z",
     "iopub.status.idle": "2021-11-22T05:59:18.807759Z",
     "shell.execute_reply": "2021-11-22T05:59:18.807235Z",
     "shell.execute_reply.started": "2021-11-21T17:04:35.321386Z"
    },
    "papermill": {
     "duration": 0.326558,
     "end_time": "2021-11-22T05:59:18.807905",
     "exception": false,
     "start_time": "2021-11-22T05:59:18.481347",
     "status": "completed"
    },
    "tags": []
   },
   "outputs": [],
   "source": [
    "def create_dct_from_labels(train_val_labels):\n",
    "\n",
    "    dct_simpsons = {}\n",
    "    for label_i in np.unique(train_val_labels).tolist():\n",
    "        dct_simpsons.update({label_i:train_val_labels.count(label_i)})\n",
    "\n",
    "    return dct_simpsons\n",
    "\n",
    "new_train_files = []\n",
    "\n",
    "for person in dct_path_train:\n",
    "    new_train_files.extend(dct_path_train[person])\n",
    "\n",
    "new_train_label = [path.parent.name for path in new_train_files]"
   ]
  },
  {
   "cell_type": "code",
   "execution_count": 13,
   "id": "4a88d20f",
   "metadata": {
    "execution": {
     "iopub.execute_input": "2021-11-22T05:59:19.441364Z",
     "iopub.status.busy": "2021-11-22T05:59:19.424175Z",
     "iopub.status.idle": "2021-11-22T05:59:19.547437Z",
     "shell.execute_reply": "2021-11-22T05:59:19.546908Z",
     "shell.execute_reply.started": "2021-11-21T17:04:37.531405Z"
    },
    "papermill": {
     "duration": 0.444689,
     "end_time": "2021-11-22T05:59:19.547572",
     "exception": false,
     "start_time": "2021-11-22T05:59:19.102883",
     "status": "completed"
    },
    "tags": []
   },
   "outputs": [],
   "source": [
    "val_dataset = SimpsonsDataset(val_files, mode='val')\n",
    "new_train_dataset = SimpsonsDataset(new_train_files, mode='train')"
   ]
  },
  {
   "cell_type": "markdown",
   "id": "c528e5b0",
   "metadata": {
    "papermill": {
     "duration": 0.29122,
     "end_time": "2021-11-22T05:59:20.129185",
     "exception": false,
     "start_time": "2021-11-22T05:59:19.837965",
     "status": "completed"
    },
    "tags": []
   },
   "source": [
    "## 4. Функции для обучения модели (оставлены без изменений)"
   ]
  },
  {
   "cell_type": "code",
   "execution_count": 14,
   "id": "ba123ebb",
   "metadata": {
    "execution": {
     "iopub.execute_input": "2021-11-22T05:59:21.056157Z",
     "iopub.status.busy": "2021-11-22T05:59:21.055102Z",
     "iopub.status.idle": "2021-11-22T05:59:21.063116Z",
     "shell.execute_reply": "2021-11-22T05:59:21.062572Z",
     "shell.execute_reply.started": "2021-11-21T17:04:39.607464Z"
    },
    "papermill": {
     "duration": 0.635466,
     "end_time": "2021-11-22T05:59:21.063258",
     "exception": false,
     "start_time": "2021-11-22T05:59:20.427792",
     "status": "completed"
    },
    "tags": []
   },
   "outputs": [],
   "source": [
    "def fit_epoch(model, train_dataloader, criterion, optimizer):\n",
    "    running_loss = 0.0\n",
    "    running_corrects = 0\n",
    "    processed_data = 0\n",
    "  \n",
    "    for inputs, labels in train_dataloader:\n",
    "        inputs = inputs.to(DEVICE) #перенос тензоров на видеокарту\n",
    "        labels = labels.to(DEVICE)\n",
    "        optimizer.zero_grad() #обнуляем градиенты, чтобы они не накапливались\n",
    "\n",
    "        outputs = model(inputs) #прогоняем данные из трейнлоадера чеез нашу сеть (модель). интересно, почему не model.forward(inputs)?\n",
    "        loss = criterion(outputs, labels) #считаем лосс\n",
    "        loss.backward()\n",
    "        optimizer.step()\n",
    "        preds = torch.argmax(outputs, 1) #все, что больше 1, приводим к 1\n",
    "        running_loss += loss.item() * inputs.size(0) #непонятно, как работает .size(0)\n",
    "        running_corrects += torch.sum(preds == labels.data) #если предсказание совпадает с ответом, увеличиваем на 1 running_corrects\n",
    "        processed_data += inputs.size(0) \n",
    "              \n",
    "    train_loss = running_loss / processed_data #потери на трейне\n",
    "    train_acc = running_corrects.cpu().numpy() / processed_data #точность на трейне\n",
    "    return train_loss, train_acc"
   ]
  },
  {
   "cell_type": "code",
   "execution_count": 15,
   "id": "68d08882",
   "metadata": {
    "execution": {
     "iopub.execute_input": "2021-11-22T05:59:21.655538Z",
     "iopub.status.busy": "2021-11-22T05:59:21.654522Z",
     "iopub.status.idle": "2021-11-22T05:59:21.660273Z",
     "shell.execute_reply": "2021-11-22T05:59:21.660874Z",
     "shell.execute_reply.started": "2021-11-21T17:04:44.088343Z"
    },
    "papermill": {
     "duration": 0.304745,
     "end_time": "2021-11-22T05:59:21.661046",
     "exception": false,
     "start_time": "2021-11-22T05:59:21.356301",
     "status": "completed"
    },
    "tags": []
   },
   "outputs": [],
   "source": [
    "def eval_epoch(model, val_dataloader, criterion):\n",
    "    model.eval()\n",
    "    running_loss = 0.0\n",
    "    running_corrects = 0\n",
    "    processed_size = 0\n",
    "\n",
    "    for inputs, labels in val_dataloader:\n",
    "        inputs = inputs.to(DEVICE)\n",
    "        labels = labels.to(DEVICE)\n",
    "\n",
    "        with torch.set_grad_enabled(False):\n",
    "            outputs = model(inputs)\n",
    "            loss = criterion(outputs, labels)\n",
    "            preds = torch.argmax(outputs, 1)\n",
    "\n",
    "        running_loss += loss.item() * inputs.size(0)\n",
    "        running_corrects += torch.sum(preds == labels.data)\n",
    "        processed_size += inputs.size(0)\n",
    "    val_loss = running_loss / processed_size\n",
    "    val_acc = running_corrects.double() / processed_size\n",
    "    return val_loss, val_acc"
   ]
  },
  {
   "cell_type": "code",
   "execution_count": 16,
   "id": "0b443f62",
   "metadata": {
    "execution": {
     "iopub.execute_input": "2021-11-22T05:59:22.253327Z",
     "iopub.status.busy": "2021-11-22T05:59:22.252341Z",
     "iopub.status.idle": "2021-11-22T05:59:22.261700Z",
     "shell.execute_reply": "2021-11-22T05:59:22.262209Z",
     "shell.execute_reply.started": "2021-11-21T17:07:03.939326Z"
    },
    "papermill": {
     "duration": 0.307386,
     "end_time": "2021-11-22T05:59:22.262385",
     "exception": false,
     "start_time": "2021-11-22T05:59:21.954999",
     "status": "completed"
    },
    "tags": []
   },
   "outputs": [],
   "source": [
    "def train(train_files, val_files, model, epochs, batch_size):\n",
    "    train_dataloader = DataLoader(new_train_dataset, batch_size=BATCH_SIZE, shuffle=True)\n",
    "    val_dataloader = DataLoader(val_dataset, batch_size=BATCH_SIZE, shuffle=False)\n",
    "\n",
    "    history = []\n",
    "    log_template = \"\\nEpoch {ep:03d} train_loss: {t_loss:0.4f} \\\n",
    "    val_loss {v_loss:0.4f} train_acc {t_acc:0.4f} val_acc {v_acc:0.4f}\"\n",
    "\n",
    "    with tqdm(desc=\"epoch\", total=epochs) as pbar_outer:\n",
    "       \n",
    "        opt = torch.optim.Adam(model.parameters(), lr=3e-4)\n",
    "        criterion = nn.CrossEntropyLoss()\n",
    "\n",
    "        for epoch in range(epochs):\n",
    "            train_loss, train_acc = fit_epoch(model, train_dataloader, criterion, opt)\n",
    "            print(\"loss\", train_loss)\n",
    "            \n",
    "            val_loss, val_acc = eval_epoch(model, val_dataloader, criterion)\n",
    "            history.append((train_loss, train_acc, val_loss, val_acc))\n",
    "            \n",
    "            pbar_outer.update(1)\n",
    "            tqdm.write(log_template.format(ep=epoch+1, t_loss=train_loss,\\\n",
    "                                           v_loss=val_loss, t_acc=train_acc, v_acc=val_acc))\n",
    "            \n",
    "    return history"
   ]
  },
  {
   "cell_type": "markdown",
   "id": "13a8bca8",
   "metadata": {
    "papermill": {
     "duration": 0.291169,
     "end_time": "2021-11-22T05:59:22.844734",
     "exception": false,
     "start_time": "2021-11-22T05:59:22.553565",
     "status": "completed"
    },
    "tags": []
   },
   "source": [
    "## 5. Transfer learning с частичной заморозкой слоев на сети AlexNet"
   ]
  },
  {
   "cell_type": "code",
   "execution_count": 17,
   "id": "a2c25774",
   "metadata": {
    "execution": {
     "iopub.execute_input": "2021-11-22T05:59:23.431477Z",
     "iopub.status.busy": "2021-11-22T05:59:23.430500Z",
     "iopub.status.idle": "2021-11-22T05:59:40.811889Z",
     "shell.execute_reply": "2021-11-22T05:59:40.811369Z",
     "shell.execute_reply.started": "2021-11-21T17:04:48.963447Z"
    },
    "papermill": {
     "duration": 17.676251,
     "end_time": "2021-11-22T05:59:40.812036",
     "exception": false,
     "start_time": "2021-11-22T05:59:23.135785",
     "status": "completed"
    },
    "tags": []
   },
   "outputs": [
    {
     "name": "stderr",
     "output_type": "stream",
     "text": [
      "Downloading: \"https://download.pytorch.org/models/alexnet-owt-7be5be79.pth\" to /root/.cache/torch/hub/checkpoints/alexnet-owt-7be5be79.pth\n"
     ]
    },
    {
     "data": {
      "application/vnd.jupyter.widget-view+json": {
       "model_id": "811a82600074485a96ce0e34000791fd",
       "version_major": 2,
       "version_minor": 0
      },
      "text/plain": [
       "  0%|          | 0.00/233M [00:00<?, ?B/s]"
      ]
     },
     "metadata": {},
     "output_type": "display_data"
    }
   ],
   "source": [
    "model = models.alexnet(pretrained=True)"
   ]
  },
  {
   "cell_type": "code",
   "execution_count": 18,
   "id": "f8f57298",
   "metadata": {
    "execution": {
     "iopub.execute_input": "2021-11-22T05:59:41.406232Z",
     "iopub.status.busy": "2021-11-22T05:59:41.405304Z",
     "iopub.status.idle": "2021-11-22T05:59:41.425437Z",
     "shell.execute_reply": "2021-11-22T05:59:41.425953Z",
     "shell.execute_reply.started": "2021-11-21T17:07:07.210797Z"
    },
    "papermill": {
     "duration": 0.316912,
     "end_time": "2021-11-22T05:59:41.426122",
     "exception": false,
     "start_time": "2021-11-22T05:59:41.109210",
     "status": "completed"
    },
    "tags": []
   },
   "outputs": [],
   "source": [
    "layers_to_unfreeze = 5\n",
    "\n",
    "for param in model.features[:-layers_to_unfreeze].parameters():\n",
    "    param.requires_grad = False\n",
    "    \n",
    "num_features = 9216\n",
    "model.classifier = nn.Linear(9216, n_classes)\n",
    "\n",
    "model = model.to(DEVICE)\n"
   ]
  },
  {
   "cell_type": "code",
   "execution_count": 19,
   "id": "698af2d5",
   "metadata": {
    "execution": {
     "iopub.execute_input": "2021-11-22T05:59:42.017146Z",
     "iopub.status.busy": "2021-11-22T05:59:42.016439Z",
     "iopub.status.idle": "2021-11-22T07:13:11.808916Z",
     "shell.execute_reply": "2021-11-22T07:13:11.806104Z",
     "shell.execute_reply.started": "2021-11-21T17:07:09.606448Z"
    },
    "papermill": {
     "duration": 4410.091269,
     "end_time": "2021-11-22T07:13:11.809086",
     "exception": false,
     "start_time": "2021-11-22T05:59:41.717817",
     "status": "completed"
    },
    "tags": []
   },
   "outputs": [
    {
     "data": {
      "application/vnd.jupyter.widget-view+json": {
       "model_id": "20a13e991b48486b92cb81bfad36a121",
       "version_major": 2,
       "version_minor": 0
      },
      "text/plain": [
       "epoch:   0%|          | 0/8 [00:00<?, ?it/s]"
      ]
     },
     "metadata": {},
     "output_type": "display_data"
    },
    {
     "name": "stdout",
     "output_type": "stream",
     "text": [
      "loss 1.3788368365192385\n",
      "\n",
      "Epoch 001 train_loss: 1.3788     val_loss 0.6213 train_acc 0.6514 val_acc 0.8363\n",
      "loss 0.38073932378205294\n",
      "\n",
      "Epoch 002 train_loss: 0.3807     val_loss 0.4378 train_acc 0.8986 val_acc 0.8888\n",
      "loss 0.21098788694962836\n",
      "\n",
      "Epoch 003 train_loss: 0.2110     val_loss 0.4084 train_acc 0.9460 val_acc 0.9016\n",
      "loss 0.1336052270886742\n",
      "\n",
      "Epoch 004 train_loss: 0.1336     val_loss 0.4112 train_acc 0.9656 val_acc 0.9020\n",
      "loss 0.08627071164440353\n",
      "\n",
      "Epoch 005 train_loss: 0.0863     val_loss 0.4324 train_acc 0.9785 val_acc 0.9104\n",
      "loss 0.06520117359441496\n",
      "\n",
      "Epoch 006 train_loss: 0.0652     val_loss 0.4631 train_acc 0.9842 val_acc 0.9079\n",
      "loss 0.04433789445309464\n",
      "\n",
      "Epoch 007 train_loss: 0.0443     val_loss 0.5089 train_acc 0.9896 val_acc 0.9089\n",
      "loss 0.035317606751683835\n",
      "\n",
      "Epoch 008 train_loss: 0.0353     val_loss 0.4662 train_acc 0.9909 val_acc 0.9089\n"
     ]
    }
   ],
   "source": [
    "history = train(new_train_dataset, val_dataset, model=model, epochs=8, batch_size=BATCH_SIZE)"
   ]
  },
  {
   "cell_type": "code",
   "execution_count": 20,
   "id": "856f7d65",
   "metadata": {
    "execution": {
     "iopub.execute_input": "2021-11-22T07:13:12.417163Z",
     "iopub.status.busy": "2021-11-22T07:13:12.416128Z",
     "iopub.status.idle": "2021-11-22T07:13:12.448532Z",
     "shell.execute_reply": "2021-11-22T07:13:12.449049Z",
     "shell.execute_reply.started": "2021-11-21T17:29:45.720731Z"
    },
    "papermill": {
     "duration": 0.33299,
     "end_time": "2021-11-22T07:13:12.449231",
     "exception": false,
     "start_time": "2021-11-22T07:13:12.116241",
     "status": "completed"
    },
    "tags": []
   },
   "outputs": [
    {
     "data": {
      "text/plain": [
       "<All keys matched successfully>"
      ]
     },
     "execution_count": 20,
     "metadata": {},
     "output_type": "execute_result"
    }
   ],
   "source": [
    "torch.save(model.state_dict(), 'Simpsons_AlexNet.pth')\n",
    "model.load_state_dict(torch.load('Simpsons_AlexNet.pth'))"
   ]
  },
  {
   "cell_type": "code",
   "execution_count": 21,
   "id": "4c1dbb83",
   "metadata": {
    "execution": {
     "iopub.execute_input": "2021-11-22T07:13:13.076331Z",
     "iopub.status.busy": "2021-11-22T07:13:13.075355Z",
     "iopub.status.idle": "2021-11-22T07:13:13.079431Z",
     "shell.execute_reply": "2021-11-22T07:13:13.079992Z",
     "shell.execute_reply.started": "2021-11-21T17:29:48.694608Z"
    },
    "papermill": {
     "duration": 0.324735,
     "end_time": "2021-11-22T07:13:13.080197",
     "exception": false,
     "start_time": "2021-11-22T07:13:12.755462",
     "status": "completed"
    },
    "tags": []
   },
   "outputs": [],
   "source": [
    "loss, acc, val_loss, val_acc = zip(*history)"
   ]
  },
  {
   "cell_type": "code",
   "execution_count": 22,
   "id": "052b7dd8",
   "metadata": {
    "execution": {
     "iopub.execute_input": "2021-11-22T07:13:13.717364Z",
     "iopub.status.busy": "2021-11-22T07:13:13.716348Z",
     "iopub.status.idle": "2021-11-22T07:13:13.955940Z",
     "shell.execute_reply": "2021-11-22T07:13:13.956569Z",
     "shell.execute_reply.started": "2021-11-21T17:29:50.758781Z"
    },
    "papermill": {
     "duration": 0.553366,
     "end_time": "2021-11-22T07:13:13.956791",
     "exception": false,
     "start_time": "2021-11-22T07:13:13.403425",
     "status": "completed"
    },
    "tags": []
   },
   "outputs": [
    {
     "data": {
      "image/png": "[encoded data removed]",
      "text/plain": [
       "<Figure size 720x432 with 1 Axes>"
      ]
     },
     "metadata": {
      "needs_background": "light"
     },
     "output_type": "display_data"
    }
   ],
   "source": [
    "plt.figure(figsize=(10, 6))\n",
    "plt.plot(loss, label=\"train_loss\")\n",
    "plt.plot(val_loss, label=\"val_loss\")\n",
    "plt.legend(loc='best')\n",
    "plt.xlabel(\"epochs\")\n",
    "plt.ylabel(\"loss\")\n",
    "plt.show()"
   ]
  },
  {
   "cell_type": "code",
   "execution_count": 23,
   "id": "3291dbd5",
   "metadata": {
    "execution": {
     "iopub.execute_input": "2021-11-22T07:13:14.563675Z",
     "iopub.status.busy": "2021-11-22T07:13:14.562499Z",
     "iopub.status.idle": "2021-11-22T07:13:14.793042Z",
     "shell.execute_reply": "2021-11-22T07:13:14.793582Z",
     "shell.execute_reply.started": "2021-11-21T17:29:53.567596Z"
    },
    "papermill": {
     "duration": 0.535898,
     "end_time": "2021-11-22T07:13:14.793778",
     "exception": false,
     "start_time": "2021-11-22T07:13:14.257880",
     "status": "completed"
    },
    "tags": []
   },
   "outputs": [
    {
     "data": {
      "image/png": "[encoded data removed]",
      "text/plain": [
       "<Figure size 720x432 with 1 Axes>"
      ]
     },
     "metadata": {
      "needs_background": "light"
     },
     "output_type": "display_data"
    }
   ],
   "source": [
    "plt.figure(figsize=(10, 6))\n",
    "plt.plot(acc, label=\"train_acc\")\n",
    "plt.plot(val_acc, label=\"val_acc\")\n",
    "plt.legend(loc='best')\n",
    "plt.xlabel(\"epochs\")\n",
    "plt.ylabel(\"acc\")\n",
    "plt.show()"
   ]
  },
  {
   "cell_type": "markdown",
   "id": "5c61ebeb",
   "metadata": {
    "papermill": {
     "duration": 0.297317,
     "end_time": "2021-11-22T07:13:15.400776",
     "exception": false,
     "start_time": "2021-11-22T07:13:15.103459",
     "status": "completed"
    },
    "tags": []
   },
   "source": [
    "## 6. Получение предсказания"
   ]
  },
  {
   "cell_type": "code",
   "execution_count": 24,
   "id": "da95eb1b",
   "metadata": {
    "execution": {
     "iopub.execute_input": "2021-11-22T07:13:16.000026Z",
     "iopub.status.busy": "2021-11-22T07:13:15.998951Z",
     "iopub.status.idle": "2021-11-22T07:13:16.000851Z",
     "shell.execute_reply": "2021-11-22T07:13:16.001347Z",
     "shell.execute_reply.started": "2021-11-21T17:30:15.377902Z"
    },
    "papermill": {
     "duration": 0.304047,
     "end_time": "2021-11-22T07:13:16.001513",
     "exception": false,
     "start_time": "2021-11-22T07:13:15.697466",
     "status": "completed"
    },
    "tags": []
   },
   "outputs": [],
   "source": [
    "def predict(model, test_loader):\n",
    "    with torch.no_grad(): #без градиентов\n",
    "        logits = []\n",
    "    \n",
    "        for inputs in test_loader:\n",
    "            inputs = inputs.to(DEVICE)\n",
    "            model.eval()\n",
    "            outputs = model(inputs).cpu()\n",
    "            logits.append(outputs)\n",
    "            \n",
    "    probs = nn.functional.softmax(torch.cat(logits), dim=-1).numpy()\n",
    "    return probs"
   ]
  },
  {
   "cell_type": "code",
   "execution_count": 25,
   "id": "2390e704",
   "metadata": {
    "execution": {
     "iopub.execute_input": "2021-11-22T07:13:16.595090Z",
     "iopub.status.busy": "2021-11-22T07:13:16.594026Z",
     "iopub.status.idle": "2021-11-22T07:13:16.595931Z",
     "shell.execute_reply": "2021-11-22T07:13:16.596471Z",
     "shell.execute_reply.started": "2021-11-21T17:30:18.73483Z"
    },
    "papermill": {
     "duration": 0.301441,
     "end_time": "2021-11-22T07:13:16.596648",
     "exception": false,
     "start_time": "2021-11-22T07:13:16.295207",
     "status": "completed"
    },
    "tags": []
   },
   "outputs": [],
   "source": [
    "def predict_one_sample(model, inputs, device=DEVICE):\n",
    "    \"\"\"Предсказание, для одной картинки\"\"\"\n",
    "    with torch.no_grad():\n",
    "        inputs = inputs.to(device)\n",
    "        model.eval()\n",
    "        logit = model(inputs).cpu()\n",
    "        probs = torch.nn.functional.softmax(logit, dim=-1).numpy()\n",
    "    return probs"
   ]
  },
  {
   "cell_type": "code",
   "execution_count": 26,
   "id": "cc22c7c7",
   "metadata": {
    "execution": {
     "iopub.execute_input": "2021-11-22T07:13:17.310981Z",
     "iopub.status.busy": "2021-11-22T07:13:17.304092Z",
     "iopub.status.idle": "2021-11-22T07:13:17.936366Z",
     "shell.execute_reply": "2021-11-22T07:13:17.935498Z",
     "shell.execute_reply.started": "2021-11-21T17:30:21.19045Z"
    },
    "papermill": {
     "duration": 1.045557,
     "end_time": "2021-11-22T07:13:17.936530",
     "exception": false,
     "start_time": "2021-11-22T07:13:16.890973",
     "status": "completed"
    },
    "tags": []
   },
   "outputs": [],
   "source": [
    "random_characters = int(np.random.uniform(0,1000))\n",
    "ex_img, true_label = val_dataset[random_characters]\n",
    "probs_im = predict_one_sample(model, ex_img.unsqueeze(0))\n",
    "\n",
    "idxs = list(map(int, np.random.uniform(0,1000, 20)))\n",
    "imgs = [val_dataset[id][0].unsqueeze(0) for id in idxs]\n",
    "\n",
    "probs_ims = predict(model, imgs)\n",
    "\n",
    "label_encoder = pickle.load(open(\"label_encoder.pkl\", 'rb'))\n",
    "\n",
    "y_pred = np.argmax(probs_ims,-1)\n",
    "\n",
    "actual_labels = [val_dataset[id][1] for id in idxs]\n",
    "\n",
    "preds_class = [label_encoder.classes_[i] for i in y_pred]"
   ]
  },
  {
   "cell_type": "code",
   "execution_count": 27,
   "id": "5d257a5f",
   "metadata": {
    "execution": {
     "iopub.execute_input": "2021-11-22T07:13:18.586240Z",
     "iopub.status.busy": "2021-11-22T07:13:18.585496Z",
     "iopub.status.idle": "2021-11-22T07:13:38.888044Z",
     "shell.execute_reply": "2021-11-22T07:13:38.887511Z",
     "shell.execute_reply.started": "2021-11-21T17:30:32.46949Z"
    },
    "papermill": {
     "duration": 20.623313,
     "end_time": "2021-11-22T07:13:38.888189",
     "exception": false,
     "start_time": "2021-11-22T07:13:18.264876",
     "status": "completed"
    },
    "tags": []
   },
   "outputs": [],
   "source": [
    "test_dataset = SimpsonsDataset(test_files, mode=\"test\")\n",
    "test_loader = DataLoader(test_dataset, shuffle=False, batch_size=64)\n",
    "probs = predict(model, test_loader) #матрица с вероятностями для каждого класса\n",
    "\n",
    "preds = label_encoder.inverse_transform(np.argmax(probs, axis=1)) #вектор в наибольшими вероятностями\n",
    "test_filenames = [path.name for path in test_dataset.files]"
   ]
  },
  {
   "cell_type": "code",
   "execution_count": 28,
   "id": "543eb34f",
   "metadata": {
    "execution": {
     "iopub.execute_input": "2021-11-22T07:13:39.487542Z",
     "iopub.status.busy": "2021-11-22T07:13:39.486576Z",
     "iopub.status.idle": "2021-11-22T07:13:39.511468Z",
     "shell.execute_reply": "2021-11-22T07:13:39.511948Z",
     "shell.execute_reply.started": "2021-11-21T17:30:46.362344Z"
    },
    "papermill": {
     "duration": 0.32137,
     "end_time": "2021-11-22T07:13:39.512123",
     "exception": false,
     "start_time": "2021-11-22T07:13:39.190753",
     "status": "completed"
    },
    "tags": []
   },
   "outputs": [],
   "source": [
    "# ДОБАВЛЕНО: создание сабмита\n",
    "import pandas as pd\n",
    "df = pd.DataFrame()\n",
    "df['Id'] = test_filenames\n",
    "df['Expected'] = preds\n",
    "df.to_csv(Path('./submission_.csv'), index=False)\n",
    "# файл появится у вас на гугл диске"
   ]
  },
  {
   "cell_type": "markdown",
   "id": "a9cc38cc",
   "metadata": {
    "papermill": {
     "duration": 0.292723,
     "end_time": "2021-11-22T07:13:40.096862",
     "exception": false,
     "start_time": "2021-11-22T07:13:39.804139",
     "status": "completed"
    },
    "tags": []
   },
   "source": [
    "# Результат на кагле 0.96599"
   ]
  },
  {
   "cell_type": "markdown",
   "id": "160a3671",
   "metadata": {
    "papermill": {
     "duration": 0.294033,
     "end_time": "2021-11-22T07:13:40.686099",
     "exception": false,
     "start_time": "2021-11-22T07:13:40.392066",
     "status": "completed"
    },
    "tags": []
   },
   "source": [
    "Также были проведены эксперименты:\n",
    "1. Простая сеть CNN с использованием BatchNorm, Dropout. Результат 0.92561\n",
    "2. AlexNet с заморозкой всех слоев. Результат 0.83740\n",
    "3. Inception с заморозкой всех слоев. Результат 0.65143\n",
    "4. Inception без заморозки слоев. Результат 0.95430"
   ]
  }
 ],
 "metadata": {
  "kernelspec": {
   "display_name": "Python 3",
   "language": "python",
   "name": "python3"
  },
  "language_info": {
   "codemirror_mode": {
    "name": "ipython",
    "version": 3
   },
   "file_extension": ".py",
   "mimetype": "text/x-python",
   "name": "python",
   "nbconvert_exporter": "python",
   "pygments_lexer": "ipython3",
   "version": "3.7.10"
  },
  "papermill": {
   "default_parameters": {},
   "duration": 4552.742371,
   "end_time": "2021-11-22T07:13:42.004329",
   "environment_variables": {},
   "exception": null,
   "input_path": "__notebook__.ipynb",
   "output_path": "__notebook__.ipynb",
   "parameters": {},
   "start_time": "2021-11-22T05:57:49.261958",
   "version": "2.3.3"
  },
  "widgets": {
   "application/vnd.jupyter.widget-state+json": {
    "state": {
     "0423568cf5b043da803b9b4b72f1724e": {
      "model_module": "@jupyter-widgets/base",
      "model_module_version": "1.2.0",
      "model_name": "LayoutModel",
      "state": {
       "_model_module": "@jupyter-widgets/base",
       "_model_module_version": "1.2.0",
       "_model_name": "LayoutModel",
       "_view_count": null,
       "_view_module": "@jupyter-widgets/base",
       "_view_module_version": "1.2.0",
       "_view_name": "LayoutView",
       "align_content": null,
       "align_items": null,
       "align_self": null,
       "border": null,
       "bottom": null,
       "display": null,
       "flex": null,
       "flex_flow": null,
       "grid_area": null,
       "grid_auto_columns": null,
       "grid_auto_flow": null,
       "grid_auto_rows": null,
       "grid_column": null,
       "grid_gap": null,
       "grid_row": null,
       "grid_template_areas": null,
       "grid_template_columns": null,
       "grid_template_rows": null,
       "height": null,
       "justify_content": null,
       "justify_items": null,
       "left": null,
       "margin": null,
       "max_height": null,
       "max_width": null,
       "min_height": null,
       "min_width": null,
       "object_fit": null,
       "object_position": null,
       "order": null,
       "overflow": null,
       "overflow_x": null,
       "overflow_y": null,
       "padding": null,
       "right": null,
       "top": null,
       "visibility": null,
       "width": null
      }
     },
     "09f3571deb9b4ff69afc16c6d39ae456": {
      "model_module": "@jupyter-widgets/base",
      "model_module_version": "1.2.0",
      "model_name": "LayoutModel",
      "state": {
       "_model_module": "@jupyter-widgets/base",
       "_model_module_version": "1.2.0",
       "_model_name": "LayoutModel",
       "_view_count": null,
       "_view_module": "@jupyter-widgets/base",
       "_view_module_version": "1.2.0",
       "_view_name": "LayoutView",
       "align_content": null,
       "align_items": null,
       "align_self": null,
       "border": null,
       "bottom": null,
       "display": null,
       "flex": null,
       "flex_flow": null,
       "grid_area": null,
       "grid_auto_columns": null,
       "grid_auto_flow": null,
       "grid_auto_rows": null,
       "grid_column": null,
       "grid_gap": null,
       "grid_row": null,
       "grid_template_areas": null,
       "grid_template_columns": null,
       "grid_template_rows": null,
       "height": null,
       "justify_content": null,
       "justify_items": null,
       "left": null,
       "margin": null,
       "max_height": null,
       "max_width": null,
       "min_height": null,
       "min_width": null,
       "object_fit": null,
       "object_position": null,
       "order": null,
       "overflow": null,
       "overflow_x": null,
       "overflow_y": null,
       "padding": null,
       "right": null,
       "top": null,
       "visibility": null,
       "width": null
      }
     },
     "0aead077c41f45f5af03d7311b6d034a": {
      "model_module": "@jupyter-widgets/controls",
      "model_module_version": "1.5.0",
      "model_name": "HTMLModel",
      "state": {
       "_dom_classes": [],
       "_model_module": "@jupyter-widgets/controls",
       "_model_module_version": "1.5.0",
       "_model_name": "HTMLModel",
       "_view_count": null,
       "_view_module": "@jupyter-widgets/controls",
       "_view_module_version": "1.5.0",
       "_view_name": "HTMLView",
       "description": "",
       "description_tooltip": null,
       "layout": "IPY_MODEL_867aa7259e0c49fd83b8ae5ef5a0baad",
       "placeholder": "​",
       "style": "IPY_MODEL_ecc15b3355c044be8884fdd1382b9131",
       "value": "100%"
      }
     },
     "1493725dee8043fcafe3d872d1874438": {
      "model_module": "@jupyter-widgets/controls",
      "model_module_version": "1.5.0",
      "model_name": "HTMLModel",
      "state": {
       "_dom_classes": [],
       "_model_module": "@jupyter-widgets/controls",
       "_model_module_version": "1.5.0",
       "_model_name": "HTMLModel",
       "_view_count": null,
       "_view_module": "@jupyter-widgets/controls",
       "_view_module_version": "1.5.0",
       "_view_name": "HTMLView",
       "description": "",
       "description_tooltip": null,
       "layout": "IPY_MODEL_0423568cf5b043da803b9b4b72f1724e",
       "placeholder": "​",
       "style": "IPY_MODEL_543d4c93015f4f45acfc6712dd08bf2c",
       "value": "epoch: 100%"
      }
     },
     "20a13e991b48486b92cb81bfad36a121": {
      "model_module": "@jupyter-widgets/controls",
      "model_module_version": "1.5.0",
      "model_name": "HBoxModel",
      "state": {
       "_dom_classes": [],
       "_model_module": "@jupyter-widgets/controls",
       "_model_module_version": "1.5.0",
       "_model_name": "HBoxModel",
       "_view_count": null,
       "_view_module": "@jupyter-widgets/controls",
       "_view_module_version": "1.5.0",
       "_view_name": "HBoxView",
       "box_style": "",
       "children": [
        "IPY_MODEL_1493725dee8043fcafe3d872d1874438",
        "IPY_MODEL_c0eb0c76e8ac40bfaf770eb36cda263e",
        "IPY_MODEL_80e4636823ab4356a208389ad4f424fa"
       ],
       "layout": "IPY_MODEL_dcf437ca707e437c95b91b93623b28aa"
      }
     },
     "2e83687aaf91402580e43cb9e52e6fc5": {
      "model_module": "@jupyter-widgets/controls",
      "model_module_version": "1.5.0",
      "model_name": "ProgressStyleModel",
      "state": {
       "_model_module": "@jupyter-widgets/controls",
       "_model_module_version": "1.5.0",
       "_model_name": "ProgressStyleModel",
       "_view_count": null,
       "_view_module": "@jupyter-widgets/base",
       "_view_module_version": "1.2.0",
       "_view_name": "StyleView",
       "bar_color": null,
       "description_width": ""
      }
     },
     "4780dc1b024d45fa952ba72505aacfc3": {
      "model_module": "@jupyter-widgets/base",
      "model_module_version": "1.2.0",
      "model_name": "LayoutModel",
      "state": {
       "_model_module": "@jupyter-widgets/base",
       "_model_module_version": "1.2.0",
       "_model_name": "LayoutModel",
       "_view_count": null,
       "_view_module": "@jupyter-widgets/base",
       "_view_module_version": "1.2.0",
       "_view_name": "LayoutView",
       "align_content": null,
       "align_items": null,
       "align_self": null,
       "border": null,
       "bottom": null,
       "display": null,
       "flex": null,
       "flex_flow": null,
       "grid_area": null,
       "grid_auto_columns": null,
       "grid_auto_flow": null,
       "grid_auto_rows": null,
       "grid_column": null,
       "grid_gap": null,
       "grid_row": null,
       "grid_template_areas": null,
       "grid_template_columns": null,
       "grid_template_rows": null,
       "height": null,
       "justify_content": null,
       "justify_items": null,
       "left": null,
       "margin": null,
       "max_height": null,
       "max_width": null,
       "min_height": null,
       "min_width": null,
       "object_fit": null,
       "object_position": null,
       "order": null,
       "overflow": null,
       "overflow_x": null,
       "overflow_y": null,
       "padding": null,
       "right": null,
       "top": null,
       "visibility": null,
       "width": null
      }
     },
     "4badc056ead74358920e28b0a13486fc": {
      "model_module": "@jupyter-widgets/controls",
      "model_module_version": "1.5.0",
      "model_name": "DescriptionStyleModel",
      "state": {
       "_model_module": "@jupyter-widgets/controls",
       "_model_module_version": "1.5.0",
       "_model_name": "DescriptionStyleModel",
       "_view_count": null,
       "_view_module": "@jupyter-widgets/base",
       "_view_module_version": "1.2.0",
       "_view_name": "StyleView",
       "description_width": ""
      }
     },
     "534199aedb2b4b0f88119e8fe8ab903e": {
      "model_module": "@jupyter-widgets/controls",
      "model_module_version": "1.5.0",
      "model_name": "ProgressStyleModel",
      "state": {
       "_model_module": "@jupyter-widgets/controls",
       "_model_module_version": "1.5.0",
       "_model_name": "ProgressStyleModel",
       "_view_count": null,
       "_view_module": "@jupyter-widgets/base",
       "_view_module_version": "1.2.0",
       "_view_name": "StyleView",
       "bar_color": null,
       "description_width": ""
      }
     },
     "543d4c93015f4f45acfc6712dd08bf2c": {
      "model_module": "@jupyter-widgets/controls",
      "model_module_version": "1.5.0",
      "model_name": "DescriptionStyleModel",
      "state": {
       "_model_module": "@jupyter-widgets/controls",
       "_model_module_version": "1.5.0",
       "_model_name": "DescriptionStyleModel",
       "_view_count": null,
       "_view_module": "@jupyter-widgets/base",
       "_view_module_version": "1.2.0",
       "_view_name": "StyleView",
       "description_width": ""
      }
     },
     "5bb69af2590f4b6a8c4a86aaa82a27d8": {
      "model_module": "@jupyter-widgets/controls",
      "model_module_version": "1.5.0",
      "model_name": "HTMLModel",
      "state": {
       "_dom_classes": [],
       "_model_module": "@jupyter-widgets/controls",
       "_model_module_version": "1.5.0",
       "_model_name": "HTMLModel",
       "_view_count": null,
       "_view_module": "@jupyter-widgets/controls",
       "_view_module_version": "1.5.0",
       "_view_name": "HTMLView",
       "description": "",
       "description_tooltip": null,
       "layout": "IPY_MODEL_ad254b17618141359f49b50eb2922156",
       "placeholder": "​",
       "style": "IPY_MODEL_af08c06e41754140bc974a7ff02494e7",
       "value": " 233M/233M [00:16&lt;00:00, 16.6MB/s]"
      }
     },
     "80e4636823ab4356a208389ad4f424fa": {
      "model_module": "@jupyter-widgets/controls",
      "model_module_version": "1.5.0",
      "model_name": "HTMLModel",
      "state": {
       "_dom_classes": [],
       "_model_module": "@jupyter-widgets/controls",
       "_model_module_version": "1.5.0",
       "_model_name": "HTMLModel",
       "_view_count": null,
       "_view_module": "@jupyter-widgets/controls",
       "_view_module_version": "1.5.0",
       "_view_name": "HTMLView",
       "description": "",
       "description_tooltip": null,
       "layout": "IPY_MODEL_4780dc1b024d45fa952ba72505aacfc3",
       "placeholder": "​",
       "style": "IPY_MODEL_4badc056ead74358920e28b0a13486fc",
       "value": " 8/8 [1:13:29&lt;00:00, 541.70s/it]"
      }
     },
     "811a82600074485a96ce0e34000791fd": {
      "model_module": "@jupyter-widgets/controls",
      "model_module_version": "1.5.0",
      "model_name": "HBoxModel",
      "state": {
       "_dom_classes": [],
       "_model_module": "@jupyter-widgets/controls",
       "_model_module_version": "1.5.0",
       "_model_name": "HBoxModel",
       "_view_count": null,
       "_view_module": "@jupyter-widgets/controls",
       "_view_module_version": "1.5.0",
       "_view_name": "HBoxView",
       "box_style": "",
       "children": [
        "IPY_MODEL_0aead077c41f45f5af03d7311b6d034a",
        "IPY_MODEL_8ca8bae2cd3241c7a1252b967128b67b",
        "IPY_MODEL_5bb69af2590f4b6a8c4a86aaa82a27d8"
       ],
       "layout": "IPY_MODEL_09f3571deb9b4ff69afc16c6d39ae456"
      }
     },
     "867aa7259e0c49fd83b8ae5ef5a0baad": {
      "model_module": "@jupyter-widgets/base",
      "model_module_version": "1.2.0",
      "model_name": "LayoutModel",
      "state": {
       "_model_module": "@jupyter-widgets/base",
       "_model_module_version": "1.2.0",
       "_model_name": "LayoutModel",
       "_view_count": null,
       "_view_module": "@jupyter-widgets/base",
       "_view_module_version": "1.2.0",
       "_view_name": "LayoutView",
       "align_content": null,
       "align_items": null,
       "align_self": null,
       "border": null,
       "bottom": null,
       "display": null,
       "flex": null,
       "flex_flow": null,
       "grid_area": null,
       "grid_auto_columns": null,
       "grid_auto_flow": null,
       "grid_auto_rows": null,
       "grid_column": null,
       "grid_gap": null,
       "grid_row": null,
       "grid_template_areas": null,
       "grid_template_columns": null,
       "grid_template_rows": null,
       "height": null,
       "justify_content": null,
       "justify_items": null,
       "left": null,
       "margin": null,
       "max_height": null,
       "max_width": null,
       "min_height": null,
       "min_width": null,
       "object_fit": null,
       "object_position": null,
       "order": null,
       "overflow": null,
       "overflow_x": null,
       "overflow_y": null,
       "padding": null,
       "right": null,
       "top": null,
       "visibility": null,
       "width": null
      }
     },
     "8ca8bae2cd3241c7a1252b967128b67b": {
      "model_module": "@jupyter-widgets/controls",
      "model_module_version": "1.5.0",
      "model_name": "FloatProgressModel",
      "state": {
       "_dom_classes": [],
       "_model_module": "@jupyter-widgets/controls",
       "_model_module_version": "1.5.0",
       "_model_name": "FloatProgressModel",
       "_view_count": null,
       "_view_module": "@jupyter-widgets/controls",
       "_view_module_version": "1.5.0",
       "_view_name": "ProgressView",
       "bar_style": "success",
       "description": "",
       "description_tooltip": null,
       "layout": "IPY_MODEL_e81397342ed74c2f860636153298d75b",
       "max": 244408911.0,
       "min": 0.0,
       "orientation": "horizontal",
       "style": "IPY_MODEL_534199aedb2b4b0f88119e8fe8ab903e",
       "value": 244408911.0
      }
     },
     "ad254b17618141359f49b50eb2922156": {
      "model_module": "@jupyter-widgets/base",
      "model_module_version": "1.2.0",
      "model_name": "LayoutModel",
      "state": {
       "_model_module": "@jupyter-widgets/base",
       "_model_module_version": "1.2.0",
       "_model_name": "LayoutModel",
       "_view_count": null,
       "_view_module": "@jupyter-widgets/base",
       "_view_module_version": "1.2.0",
       "_view_name": "LayoutView",
       "align_content": null,
       "align_items": null,
       "align_self": null,
       "border": null,
       "bottom": null,
       "display": null,
       "flex": null,
       "flex_flow": null,
       "grid_area": null,
       "grid_auto_columns": null,
       "grid_auto_flow": null,
       "grid_auto_rows": null,
       "grid_column": null,
       "grid_gap": null,
       "grid_row": null,
       "grid_template_areas": null,
       "grid_template_columns": null,
       "grid_template_rows": null,
       "height": null,
       "justify_content": null,
       "justify_items": null,
       "left": null,
       "margin": null,
       "max_height": null,
       "max_width": null,
       "min_height": null,
       "min_width": null,
       "object_fit": null,
       "object_position": null,
       "order": null,
       "overflow": null,
       "overflow_x": null,
       "overflow_y": null,
       "padding": null,
       "right": null,
       "top": null,
       "visibility": null,
       "width": null
      }
     },
     "af08c06e41754140bc974a7ff02494e7": {
      "model_module": "@jupyter-widgets/controls",
      "model_module_version": "1.5.0",
      "model_name": "DescriptionStyleModel",
      "state": {
       "_model_module": "@jupyter-widgets/controls",
       "_model_module_version": "1.5.0",
       "_model_name": "DescriptionStyleModel",
       "_view_count": null,
       "_view_module": "@jupyter-widgets/base",
       "_view_module_version": "1.2.0",
       "_view_name": "StyleView",
       "description_width": ""
      }
     },
     "c0eb0c76e8ac40bfaf770eb36cda263e": {
      "model_module": "@jupyter-widgets/controls",
      "model_module_version": "1.5.0",
      "model_name": "FloatProgressModel",
      "state": {
       "_dom_classes": [],
       "_model_module": "@jupyter-widgets/controls",
       "_model_module_version": "1.5.0",
       "_model_name": "FloatProgressModel",
       "_view_count": null,
       "_view_module": "@jupyter-widgets/controls",
       "_view_module_version": "1.5.0",
       "_view_name": "ProgressView",
       "bar_style": "success",
       "description": "",
       "description_tooltip": null,
       "layout": "IPY_MODEL_e753178d4ca34ce286a0928c7ea9540d",
       "max": 8.0,
       "min": 0.0,
       "orientation": "horizontal",
       "style": "IPY_MODEL_2e83687aaf91402580e43cb9e52e6fc5",
       "value": 8.0
      }
     },
     "dcf437ca707e437c95b91b93623b28aa": {
      "model_module": "@jupyter-widgets/base",
      "model_module_version": "1.2.0",
      "model_name": "LayoutModel",
      "state": {
       "_model_module": "@jupyter-widgets/base",
       "_model_module_version": "1.2.0",
       "_model_name": "LayoutModel",
       "_view_count": null,
       "_view_module": "@jupyter-widgets/base",
       "_view_module_version": "1.2.0",
       "_view_name": "LayoutView",
       "align_content": null,
       "align_items": null,
       "align_self": null,
       "border": null,
       "bottom": null,
       "display": null,
       "flex": null,
       "flex_flow": null,
       "grid_area": null,
       "grid_auto_columns": null,
       "grid_auto_flow": null,
       "grid_auto_rows": null,
       "grid_column": null,
       "grid_gap": null,
       "grid_row": null,
       "grid_template_areas": null,
       "grid_template_columns": null,
       "grid_template_rows": null,
       "height": null,
       "justify_content": null,
       "justify_items": null,
       "left": null,
       "margin": null,
       "max_height": null,
       "max_width": null,
       "min_height": null,
       "min_width": null,
       "object_fit": null,
       "object_position": null,
       "order": null,
       "overflow": null,
       "overflow_x": null,
       "overflow_y": null,
       "padding": null,
       "right": null,
       "top": null,
       "visibility": null,
       "width": null
      }
     },
     "e753178d4ca34ce286a0928c7ea9540d": {
      "model_module": "@jupyter-widgets/base",
      "model_module_version": "1.2.0",
      "model_name": "LayoutModel",
      "state": {
       "_model_module": "@jupyter-widgets/base",
       "_model_module_version": "1.2.0",
       "_model_name": "LayoutModel",
       "_view_count": null,
       "_view_module": "@jupyter-widgets/base",
       "_view_module_version": "1.2.0",
       "_view_name": "LayoutView",
       "align_content": null,
       "align_items": null,
       "align_self": null,
       "border": null,
       "bottom": null,
       "display": null,
       "flex": null,
       "flex_flow": null,
       "grid_area": null,
       "grid_auto_columns": null,
       "grid_auto_flow": null,
       "grid_auto_rows": null,
       "grid_column": null,
       "grid_gap": null,
       "grid_row": null,
       "grid_template_areas": null,
       "grid_template_columns": null,
       "grid_template_rows": null,
       "height": null,
       "justify_content": null,
       "justify_items": null,
       "left": null,
       "margin": null,
       "max_height": null,
       "max_width": null,
       "min_height": null,
       "min_width": null,
       "object_fit": null,
       "object_position": null,
       "order": null,
       "overflow": null,
       "overflow_x": null,
       "overflow_y": null,
       "padding": null,
       "right": null,
       "top": null,
       "visibility": null,
       "width": null
      }
     },
     "e81397342ed74c2f860636153298d75b": {
      "model_module": "@jupyter-widgets/base",
      "model_module_version": "1.2.0",
      "model_name": "LayoutModel",
      "state": {
       "_model_module": "@jupyter-widgets/base",
       "_model_module_version": "1.2.0",
       "_model_name": "LayoutModel",
       "_view_count": null,
       "_view_module": "@jupyter-widgets/base",
       "_view_module_version": "1.2.0",
       "_view_name": "LayoutView",
       "align_content": null,
       "align_items": null,
       "align_self": null,
       "border": null,
       "bottom": null,
       "display": null,
       "flex": null,
       "flex_flow": null,
       "grid_area": null,
       "grid_auto_columns": null,
       "grid_auto_flow": null,
       "grid_auto_rows": null,
       "grid_column": null,
       "grid_gap": null,
       "grid_row": null,
       "grid_template_areas": null,
       "grid_template_columns": null,
       "grid_template_rows": null,
       "height": null,
       "justify_content": null,
       "justify_items": null,
       "left": null,
       "margin": null,
       "max_height": null,
       "max_width": null,
       "min_height": null,
       "min_width": null,
       "object_fit": null,
       "object_position": null,
       "order": null,
       "overflow": null,
       "overflow_x": null,
       "overflow_y": null,
       "padding": null,
       "right": null,
       "top": null,
       "visibility": null,
       "width": null
      }
     },
     "ecc15b3355c044be8884fdd1382b9131": {
      "model_module": "@jupyter-widgets/controls",
      "model_module_version": "1.5.0",
      "model_name": "DescriptionStyleModel",
      "state": {
       "_model_module": "@jupyter-widgets/controls",
       "_model_module_version": "1.5.0",
       "_model_name": "DescriptionStyleModel",
       "_view_count": null,
       "_view_module": "@jupyter-widgets/base",
       "_view_module_version": "1.2.0",
       "_view_name": "StyleView",
       "description_width": ""
      }
     }
    },
    "version_major": 2,
    "version_minor": 0
   }
  }
 },
 "nbformat": 4,
 "nbformat_minor": 5
}
